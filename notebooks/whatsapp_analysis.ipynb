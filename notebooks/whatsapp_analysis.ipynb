{
 "cells": [
  {
   "cell_type": "markdown",
   "id": "2f47672b",
   "metadata": {},
   "source": [
    "<img src=\"../images/whatsapp_leonardo_ai.jpg\" width=\"650\">,\n",
    "\n",
    "# **Analizando un grupo de WhatsApp**\n",
    "\n",
    "## 1 Introducción\n",
    "\n",
    "En esta notebook se explora el comportamiento de un grupo de WhatsApp a lo largo del tiempo. Empezaremos limpiando y organizando los datos, creando un DataFrame con información sobre **fecha y hora de los mensajes**, **quién los envió** (anonimizado) y **su contenido**.\n",
    "\n",
    "Después realizaremos un **análisis exploratorio**, respondiendo preguntas como:\n",
    "\n",
    "* ¿Quiénes son los miembros más activos del grupo?\n",
    "* ¿Cuándo se envían más mensajes a lo largo del día y de la semana?\n",
    "* ¿Cómo cambia la actividad a lo largo del semestre o del año?\n",
    "* ¿Qué palabras se usan más y qué nos dicen sobre el tipo de conversación del grupo?\n",
    "\n",
    "Finalmente, haremos algunos **análisis adicionales** para entender patrones interesantes, como quién manda mensajes más largos o más cortos, y cómo varía la participación entre los miembros.\n"
   ]
  },
  {
   "cell_type": "markdown",
   "id": "c1b8e7a5",
   "metadata": {},
   "source": [
    "### 1.1 Configuraciones de entorno"
   ]
  },
  {
   "cell_type": "code",
   "execution_count": 1,
   "id": "2bfe522d",
   "metadata": {},
   "outputs": [],
   "source": [
    "import pandas as pd\n",
    "import matplotlib.pyplot as plt\n",
    "import seaborn as sns\n",
    "from wordcloud import WordCloud\n",
    "import spacy\n",
    "\n",
    "import re\n",
    "import zipfile\n",
    "from pathlib import Path"
   ]
  },
  {
   "cell_type": "code",
   "execution_count": 2,
   "id": "cccb3ef9",
   "metadata": {},
   "outputs": [],
   "source": [
    "plt.style.use('ggplot')"
   ]
  },
  {
   "cell_type": "markdown",
   "id": "6d178ce5",
   "metadata": {},
   "source": [
    "Los directorios de datos: "
   ]
  },
  {
   "cell_type": "code",
   "execution_count": 3,
   "id": "c0c43e48",
   "metadata": {},
   "outputs": [],
   "source": [
    "BASE = Path().resolve().parent\n",
    "DATA = BASE / \"data\"\n",
    "RAW = DATA / \"raw\"\n",
    "PROCESSED = DATA / \"processed\""
   ]
  },
  {
   "cell_type": "code",
   "execution_count": 4,
   "id": "72c3bc38",
   "metadata": {},
   "outputs": [
    {
     "data": {
      "text/plain": [
       "(True, True)"
      ]
     },
     "execution_count": 4,
     "metadata": {},
     "output_type": "execute_result"
    }
   ],
   "source": [
    "BASE.exists(), BASE.is_dir()"
   ]
  },
  {
   "cell_type": "markdown",
   "id": "2b9ee647",
   "metadata": {},
   "source": [
    "Aseguramos que los directorios están presentes en el proyecto: "
   ]
  },
  {
   "cell_type": "code",
   "execution_count": 5,
   "id": "dd03dbf0",
   "metadata": {},
   "outputs": [],
   "source": [
    "RAW.mkdir(exist_ok=True, parents=True)\n",
    "PROCESSED.mkdir(exist_ok=True, parents=True)"
   ]
  },
  {
   "cell_type": "markdown",
   "id": "30b1e315",
   "metadata": {},
   "source": [
    "## 2 Ingesta de Datos\n",
    "\n",
    "Los datos han sido descargados directamente desde un gurpo de WhatsApp y colocados en `data/raw` con el nombre de `grupo.zip`. \n",
    "\n",
    "Verifiquemos que los datos están presentes: "
   ]
  },
  {
   "cell_type": "code",
   "execution_count": 6,
   "id": "c06c5223",
   "metadata": {},
   "outputs": [
    {
     "name": "stdout",
     "output_type": "stream",
     "text": [
      "data\\raw\\grupo.zip\n"
     ]
    }
   ],
   "source": [
    "for item in RAW.iterdir():\n",
    "    if item.suffix == '.zip': \n",
    "        print(item.relative_to(BASE))"
   ]
  },
  {
   "cell_type": "markdown",
   "id": "7b3f5d59",
   "metadata": {},
   "source": [
    "Creamos el apuntador al archivo y verificamos que existe y que es un archivo válido: "
   ]
  },
  {
   "cell_type": "code",
   "execution_count": 7,
   "id": "03293b77",
   "metadata": {},
   "outputs": [
    {
     "data": {
      "text/plain": [
       "(True, True)"
      ]
     },
     "execution_count": 7,
     "metadata": {},
     "output_type": "execute_result"
    }
   ],
   "source": [
    "zfile = RAW / \"grupo.zip\"\n",
    "\n",
    "zfile.exists(), zfile.is_file()"
   ]
  },
  {
   "cell_type": "markdown",
   "id": "3bda7f0a",
   "metadata": {},
   "source": [
    "El archivo de salida: "
   ]
  },
  {
   "cell_type": "code",
   "execution_count": 8,
   "id": "aa28affa",
   "metadata": {},
   "outputs": [],
   "source": [
    "outpath = RAW / \"grupo.txt\""
   ]
  },
  {
   "cell_type": "markdown",
   "id": "1795dc59",
   "metadata": {},
   "source": [
    "Para extraer el archivo `ZIP` usamos el paquete `zipfile`: "
   ]
  },
  {
   "cell_type": "code",
   "execution_count": 9,
   "id": "f54eeea5",
   "metadata": {},
   "outputs": [],
   "source": [
    "with zipfile.ZipFile(zfile, 'r') as file:\n",
    "    filename = file.namelist()[0]\n",
    "\n",
    "    with file.open(filename) as source: \n",
    "        with open(outpath, 'wb') as target:\n",
    "            target.write(source.read())"
   ]
  },
  {
   "cell_type": "markdown",
   "id": "c0a3df19",
   "metadata": {},
   "source": [
    "Verificamos que el archivo se ha extraido correctamente: "
   ]
  },
  {
   "cell_type": "code",
   "execution_count": 10,
   "id": "f84d1afa",
   "metadata": {},
   "outputs": [
    {
     "data": {
      "text/plain": [
       "(True, True)"
      ]
     },
     "execution_count": 10,
     "metadata": {},
     "output_type": "execute_result"
    }
   ],
   "source": [
    "outpath.exists(), outpath.is_file()"
   ]
  },
  {
   "cell_type": "markdown",
   "id": "257470cd",
   "metadata": {},
   "source": [
    "Una vez extraido podemos cambiamos de manualmente los nombres de los participantes. En total hay 6 participantes en el grupo y se han usado nombres de los superheroes de la liga de la justicia: Batman, Aquaman, Superman, Wonder Woman y Linterna Verde). \n",
    "\n",
    "El archivo de texto con los nombres modificados está en la dirección `data/raw/grupo_no_names.txt`\n",
    "\n",
    "Ahora, cargamos el archivo de texto y demos un vistazo a los datos: "
   ]
  },
  {
   "cell_type": "code",
   "execution_count": 11,
   "id": "c4bc6b3f",
   "metadata": {},
   "outputs": [
    {
     "data": {
      "text/plain": [
       "(True, True)"
      ]
     },
     "execution_count": 11,
     "metadata": {},
     "output_type": "execute_result"
    }
   ],
   "source": [
    "nonamespath = RAW / \"grupo_no_names.txt\"\n",
    "nonamespath.exists(), nonamespath.is_file()"
   ]
  },
  {
   "cell_type": "code",
   "execution_count": 12,
   "id": "84987f2d",
   "metadata": {},
   "outputs": [
    {
     "name": "stdout",
     "output_type": "stream",
     "text": [
      "10/4/2023, 11:39 - Los mensajes y las llamadas están cifrados de extremo a extremo. Solo las personas en este chat pueden leerlos, escucharlos o compartirlos. Obtén más información.\n",
      "10/4/2023, 11:39 - ‎Wonder Woman creó el grupo \"grupo\".\n",
      "10/4/2023, 11:39 - ‎Wonder Woman te añadió\n",
      "10/4/2023, 11:40 - Flash: ✋✋✋\n",
      "10/4/2023, 11:41 - Flash: Rola las fotos Wonder Woman\n",
      "10/4/2023, 11:41 - Flash: Un parienton\n",
      "10/4/2023, 11:43 - Wonder Woman: ayuda el Batman está hablando ***\n",
      "10/4/2023, 11:45 - Batman: Hao✋\n",
      "10/4/2023, 11:55 - Flash: <Multimedia omitido>\n",
      "10/4/2023, 11:55 - Flash: <Multimedia omitido>\n",
      "10/4/2023, 11:55 - Flash: <Multimedia omitido>\n"
     ]
    }
   ],
   "source": [
    "with open(nonamespath, \"r\", encoding=\"utf-8\") as f:\n",
    "    for i, line in enumerate(f):\n",
    "        print(line.strip())\n",
    "        if i == 10:  # las primeras 20 lineas\n",
    "            break"
   ]
  },
  {
   "cell_type": "markdown",
   "id": "a1702468",
   "metadata": {},
   "source": [
    "Nótese que las primeras líneas del archivo indican la fecha de creación del grupo, el participante que lo creo y la fecha en la que propietario de los datos fue agregado al grupo: `10/04/2023, 11:39`. \n",
    "\n",
    "Para procesar el archivo obtenemos una lista con todas las lineas del archivo de texto: "
   ]
  },
  {
   "cell_type": "code",
   "execution_count": 13,
   "id": "4d822183",
   "metadata": {},
   "outputs": [],
   "source": [
    "with open(nonamespath, 'r', encoding=\"utf-8\") as f:\n",
    "    lines = f.readlines()"
   ]
  },
  {
   "cell_type": "code",
   "execution_count": 14,
   "id": "53916e13",
   "metadata": {},
   "outputs": [
    {
     "data": {
      "text/plain": [
       "(11317,\n",
       " ['10/4/2023, 11:39 - Los mensajes y las llamadas están cifrados de extremo a extremo. Solo las personas en este chat pueden leerlos, escucharlos o compartirlos. Obtén más información.\\n',\n",
       "  '10/4/2023, 11:39 - \\u200eWonder Woman creó el grupo \"grupo\".\\n',\n",
       "  '10/4/2023, 11:39 - \\u200eWonder Woman te añadió\\n',\n",
       "  '10/4/2023, 11:40 - Flash: ✋✋✋\\n',\n",
       "  '10/4/2023, 11:41 - Flash: Rola las fotos Wonder Woman\\n'])"
      ]
     },
     "execution_count": 14,
     "metadata": {},
     "output_type": "execute_result"
    }
   ],
   "source": [
    "len(lines), lines[:5]"
   ]
  },
  {
   "cell_type": "markdown",
   "id": "a948a011",
   "metadata": {},
   "source": [
    "¡Las líneas de texto han sido cargadas correctamente!\n",
    "\n",
    "Ahora, separamos cada línea como una tupla con los campos `fecha`, `hora`, `usuario`, `mensaje`. \n",
    "\n",
    "Para ello, primero conviene analizar la estructura de las líneas: "
   ]
  },
  {
   "cell_type": "code",
   "execution_count": 16,
   "id": "9e064ede",
   "metadata": {},
   "outputs": [
    {
     "name": "stdout",
     "output_type": "stream",
     "text": [
      "10/4/2023, 11:39 - Los mensajes y las llamadas están cifrados de extremo a extremo. Solo las personas en este chat pueden leerlos, escucharlos o compartirlos. Obtén más información.\n",
      "10/4/2023, 11:39 - ‎Wonder Woman creó el grupo \"grupo\".\n",
      "10/4/2023, 11:39 - ‎Wonder Woman te añadió\n",
      "10/4/2023, 11:40 - Flash: ✋✋✋\n",
      "10/4/2023, 11:41 - Flash: Rola las fotos Wonder Woman\n",
      "10/4/2023, 11:41 - Flash: Un parienton\n",
      "10/4/2023, 11:43 - Wonder Woman: ayuda el Batman está hablando ***\n",
      "10/4/2023, 11:45 - Batman: Hao✋\n",
      "10/4/2023, 11:55 - Flash: <Multimedia omitido>\n",
      "10/4/2023, 11:55 - Flash: <Multimedia omitido>\n",
      "10/4/2023, 11:55 - Flash: <Multimedia omitido>\n",
      "10/4/2023, 11:55 - Flash: <Multimedia omitido>\n",
      "10/4/2023, 11:55 - Flash: <Multimedia omitido>\n",
      "10/4/2023, 11:55 - Flash: <Multimedia omitido>\n",
      "10/4/2023, 11:57 - Flash: <Multimedia omitido>\n",
      "12/4/2023, 10:34 - Wonder Woman: Flash\n",
      "12/4/2023, 10:34 - Wonder Woman: y los yashis\n",
      "12/4/2023, 10:34 - Wonder Woman: <Multimedia omitido>\n",
      "12/4/2023, 10:34 - Superman: Tu primer robo como político?\n",
      "12/4/2023, 10:34 - Flash: Los estoy esperando\n",
      "12/4/2023, 10:34 - Flash: Pero yo creo que me mandaron xd\n",
      "12/4/2023, 10:35 - Wonder Woman: tsss\n",
      "12/4/2023, 10:35 - Superman: Nooooooo\n",
      "12/4/2023, 10:35 - Wonder Woman: te robaron\n",
      "12/4/2023, 10:41 - Superman: <Multimedia omitido>\n",
      "12/4/2023, 10:41 - Superman: Ahí está @⁨Flash⁩\n",
      "12/4/2023, 10:42 - Flash: Dile\n",
      "12/4/2023, 10:42 - Flash: Que le caiga a física\n",
      "12/4/2023, 10:42 - Superman: Estás en las bancas?\n",
      "12/4/2023, 10:43 - Flash: Smn\n",
      "12/4/2023, 10:43 - Superman: Que anda entregando en carro\n",
      "12/4/2023, 10:43 - Superman: Que te ve en el 5A\n",
      "12/4/2023, 10:43 - Superman: Dice\n",
      "12/4/2023, 10:44 - Flash: Donde queda esa madre?\n",
      "12/4/2023, 10:45 - Superman: Frente a matemática\n",
      "12/4/2023, 10:45 - Superman: <Multimedia omitido>\n",
      "12/4/2023, 10:45 - Superman: Vas a ir? Pa confirmarle\n",
      "12/4/2023, 10:45 - Flash: Smn\n",
      "12/4/2023, 10:46 - Superman: Ya\n",
      "12/4/2023, 10:47 - Superman: Que anda en el 10A dice, que ahorita va jajajaja sptm\n",
      "12/4/2023, 10:47 - Wonder Woman: se te fue toda la clase esperando Flash jajajajaj\n",
      "12/4/2023, 10:48 - Flash: Ptm\n",
      "12/4/2023, 10:48 - Flash: En que carro viene?\n",
      "12/4/2023, 10:48 - Superman: No me dijo\n",
      "12/4/2023, 10:48 - Wonder Woman: que adivinas dijo\n",
      "12/4/2023, 10:48 - Wonder Woman: adivines*\n",
      "12/4/2023, 10:49 - Flash: Estoy enfrente del 5A-2\n",
      "12/4/2023, 10:49 - Flash: Por la parte de la calle\n",
      "12/4/2023, 10:50 - Superman: <Multimedia omitido>\n",
      "12/4/2023, 10:50 - Wonder Woman: que batallosos\n",
      "12/4/2023, 10:50 - Superman: Que la busques dice\n",
      "12/4/2023, 10:50 - Wonder Woman: JAJAJAJJA\n",
      "12/4/2023, 10:50 - Flash: 🦐\n",
      "12/4/2023, 10:55 - Flash: No la encontré\n",
      "12/4/2023, 10:57 - Flash: Ya me voy xd\n",
      "12/4/2023, 11:15 - Wonder Woman: me acabo de imaginar al Batman en kino JAJAJAJAJAJAJAJ\n",
      "12/4/2023, 11:16 - Superman: <Multimedia omitido>\n",
      "12/4/2023, 11:17 - Wonder Woman: JAJAJAJAJAJAJAJAJAJAJAJAJAJA\n",
      "12/4/2023, 11:17 - Wonder Woman: juzgon el viejo\n",
      "12/4/2023, 11:22 - Wonder Woman: <Multimedia omitido>\n",
      "12/4/2023, 13:13 - Batman: Pasen el examen\n",
      "12/4/2023, 13:13 - Batman: De termo\n",
      "12/4/2023, 13:13 - Batman: Pls\n",
      "12/4/2023, 13:13 - Superman: @⁨Wonder Woman⁩\n",
      "12/4/2023, 13:25 - Wonder Woman: te lo vendo\n",
      "12/4/2023, 13:25 - Wonder Woman: <Multimedia omitido>\n",
      "12/4/2023, 13:28 - Batman: Presio\n",
      "12/4/2023, 13:28 - Wonder Woman: algo de cuántica\n",
      "12/4/2023, 13:28 - Wonder Woman: q onda\n",
      "12/4/2023, 13:37 - Superman: <Multimedia omitido>\n",
      "12/4/2023, 13:37 - Superman: https://www.elimparcial.com/sonora/hermosillo/Academicos-de-la-Unison-colocan-manta-gigante-en-Cerro-de-la-Campana-en-protesta-por-revision-contractual-20230411-0023.html\n",
      "12/4/2023, 13:47 - Batman: Excesivamente caros\n",
      "14/4/2023, 09:56 - Wonder Woman: que sordo Flash\n",
      "14/4/2023, 09:56 - Superman: Saca\n",
      "14/4/2023, 09:57 - Wonder Woman: cuando tengo hambre nunca traes comida\n",
      "14/4/2023, 09:57 - Wonder Woman: pnsh bato\n",
      "14/4/2023, 09:57 - Wonder Woman: <Multimedia omitido>\n",
      "14/4/2023, 09:58 - Flash: Jajajaja\n",
      "14/4/2023, 09:58 - Flash: Te da hambre cuando no traigo nada\n",
      "14/4/2023, 09:58 - Superman: Y el Linterna Verde se echó unas barritas\n",
      "14/4/2023, 09:58 - Wonder Woman: malos amigos\n",
      "14/4/2023, 09:58 - Wonder Woman: q bárbaro\n",
      "14/4/2023, 09:59 - Superman: Y luego los yashis\n",
      "14/4/2023, 09:59 - Flash: Pch Linterna Verde que mal amigo\n",
      "14/4/2023, 09:59 - Wonder Woman: tu también we\n",
      "14/4/2023, 11:43 - Superman: <Multimedia omitido>\n",
      "14/4/2023, 11:46 - Wonder Woman: ah chingado\n",
      "14/4/2023, 11:46 - Wonder Woman: te están copiando\n",
      "14/4/2023, 11:46 - Wonder Woman: @⁨Batman⁩\n",
      "14/4/2023, 11:59 - Batman: ✋\n",
      "16/4/2023, 22:01 - Wonder Woman: ya le avisaron al Batman que no hay didáctica mañana?\n",
      "16/4/2023, 22:08 - Superman: @⁨Batman⁩\n",
      "16/4/2023, 22:08 - Superman: Ha de estar dormido, mañana se dará cuenta cuando llegue a la uni\n",
      "17/4/2023, 11:58 - Superman: <Multimedia omitido>\n",
      "17/4/2023, 11:58 - Superman: <Multimedia omitido>\n",
      "17/4/2023, 11:58 - Superman: @⁨Flash⁩ ahí están las últimas\n",
      "17/4/2023, 12:06 - Flash: 👌\n",
      "18/4/2023, 10:06 - Superman: <Multimedia omitido>\n",
      "18/4/2023, 10:10 - Superman: <Multimedia omitido>\n",
      "18/4/2023, 10:58 - Flash: <Multimedia omitido>\n"
     ]
    }
   ],
   "source": [
    "for line in lines[:100]: \n",
    "    print(line.replace('\\n', ''))"
   ]
  },
  {
   "cell_type": "markdown",
   "id": "d34d3e9e",
   "metadata": {},
   "source": [
    "Sabemos de antemano que hay 6 participantes en el grupo, cuyas identidades han sido anonimizadas. En estas primeras líneas ya podemos ver a algunos de ellos. Las líneas de los mensajes enviados por los participantes siguen este formato:\n",
    "\n",
    "* (`fecha`, `hora`, `usuario`, `mensaje`)\n",
    "\n",
    "Algo que también notamos en esta muestra es que los mensajes largos aparecen divididos en varias líneas.\n",
    "\n",
    "Por otro lado, los mensajes del sistema de WhatsApp tienen una estructura similar, pero sin incluir el nombre del usuario.\n",
    "\n",
    "Con estas observaciones, ya podemos comenzar a extraer la información de cada línea y convertirla en tuplas con los datos del mensaje. Para eso, usamos la siguiente función:"
   ]
  },
  {
   "cell_type": "code",
   "execution_count": 18,
   "id": "014349e3",
   "metadata": {},
   "outputs": [],
   "source": [
    "def get_fields(lines):\n",
    "    # Regex para mensajes normales (con usuario)\n",
    "    msg_pattern = r'^(\\d{1,2}/\\d{1,2}/\\d{4}), (\\d{1,2}:\\d{2}) - (.*?): (.*)'\n",
    "\n",
    "    # Regex para mensajes de sistema (sin usuario)\n",
    "    sys_pattern = r'^(\\d{1,2}/\\d{1,2}/\\d{4}), (\\d{1,2}:\\d{2}) - (.*)'\n",
    "\n",
    "    tuples = []\n",
    "    \n",
    "    for line in lines:\n",
    "        line = line.strip()\n",
    "        msg_match = re.match(msg_pattern, line)\n",
    "        sys_match = re.match(sys_pattern, line)\n",
    "\n",
    "        if msg_match:\n",
    "            # Nuevo mensaje con usuario\n",
    "            fecha, hora, nombre, contenido = msg_match.groups()\n",
    "            tuples.append((fecha, hora, nombre, contenido))\n",
    "        \n",
    "        elif sys_match:\n",
    "            # Mensaje del sistema\n",
    "            fecha, hora, contenido = sys_match.groups()\n",
    "            tuples.append((fecha, hora, \"<Sistema>\", contenido))\n",
    "        \n",
    "        else:\n",
    "            # Continuación de mensaje anterior\n",
    "            if tuples:\n",
    "                fecha, hora, nombre, contenido = tuples[-1]\n",
    "                contenido = contenido + \" \" + line  # concatenamos: linea anterior + linea actual\n",
    "                tuples[-1] = (fecha, hora, nombre, contenido)    \n",
    "                \n",
    "    return tuples\n"
   ]
  },
  {
   "cell_type": "code",
   "execution_count": 20,
   "id": "454a53ff",
   "metadata": {},
   "outputs": [
    {
     "name": "stdout",
     "output_type": "stream",
     "text": [
      "('10/4/2023', '11:39', '<Sistema>', 'Los mensajes y las llamadas están cifrados de extremo a extremo. Solo las personas en este chat pueden leerlos, escucharlos o compartirlos. Obtén más información.')\n",
      "('10/4/2023', '11:39', '<Sistema>', '\\u200eWonder Woman creó el grupo \"grupo\".')\n",
      "('10/4/2023', '11:39', '<Sistema>', '\\u200eWonder Woman te añadió')\n",
      "('10/4/2023', '11:40', 'Flash', '✋✋✋')\n",
      "('10/4/2023', '11:41', 'Flash', 'Rola las fotos Wonder Woman')\n",
      "('10/4/2023', '11:41', 'Flash', 'Un parienton')\n",
      "('10/4/2023', '11:43', 'Wonder Woman', 'ayuda el Batman está hablando ***')\n",
      "('10/4/2023', '11:45', 'Batman', 'Hao✋')\n",
      "('10/4/2023', '11:55', 'Flash', '<Multimedia omitido>')\n",
      "('10/4/2023', '11:55', 'Flash', '<Multimedia omitido>')\n"
     ]
    }
   ],
   "source": [
    "tuple_msgs = get_fields(lines)\n",
    "\n",
    "for line in tuple_msgs[:10]: \n",
    "    print(line)"
   ]
  },
  {
   "cell_type": "markdown",
   "id": "28e6167f",
   "metadata": {},
   "source": [
    "¡Los campos de cada línea han sido extraidos correctamente!\n",
    "\n",
    "Ahora, pasamos los datos de texto a `DataFrame`: "
   ]
  },
  {
   "cell_type": "code",
   "execution_count": 21,
   "id": "522f163b",
   "metadata": {},
   "outputs": [],
   "source": [
    "df = pd.DataFrame(tuple_msgs, columns=['fecha', 'hora', 'usuario', 'mensaje'])"
   ]
  },
  {
   "cell_type": "markdown",
   "id": "9cef755d",
   "metadata": {},
   "source": [
    "## 3 Limpieza y Procesamiento\n",
    "\n",
    "Antes de limpar los datos conviene hacer una pequeña exploración del `DataFrame`: "
   ]
  },
  {
   "cell_type": "code",
   "execution_count": 22,
   "id": "f4ea9abf",
   "metadata": {},
   "outputs": [
    {
     "data": {
      "text/html": [
       "<div>\n",
       "<style scoped>\n",
       "    .dataframe tbody tr th:only-of-type {\n",
       "        vertical-align: middle;\n",
       "    }\n",
       "\n",
       "    .dataframe tbody tr th {\n",
       "        vertical-align: top;\n",
       "    }\n",
       "\n",
       "    .dataframe thead th {\n",
       "        text-align: right;\n",
       "    }\n",
       "</style>\n",
       "<table border=\"1\" class=\"dataframe\">\n",
       "  <thead>\n",
       "    <tr style=\"text-align: right;\">\n",
       "      <th></th>\n",
       "      <th>fecha</th>\n",
       "      <th>hora</th>\n",
       "      <th>usuario</th>\n",
       "      <th>mensaje</th>\n",
       "    </tr>\n",
       "  </thead>\n",
       "  <tbody>\n",
       "    <tr>\n",
       "      <th>0</th>\n",
       "      <td>10/4/2023</td>\n",
       "      <td>11:39</td>\n",
       "      <td>&lt;Sistema&gt;</td>\n",
       "      <td>Los mensajes y las llamadas están cifrados de ...</td>\n",
       "    </tr>\n",
       "    <tr>\n",
       "      <th>1</th>\n",
       "      <td>10/4/2023</td>\n",
       "      <td>11:39</td>\n",
       "      <td>&lt;Sistema&gt;</td>\n",
       "      <td>‎Wonder Woman creó el grupo \"grupo\".</td>\n",
       "    </tr>\n",
       "    <tr>\n",
       "      <th>2</th>\n",
       "      <td>10/4/2023</td>\n",
       "      <td>11:39</td>\n",
       "      <td>&lt;Sistema&gt;</td>\n",
       "      <td>‎Wonder Woman te añadió</td>\n",
       "    </tr>\n",
       "    <tr>\n",
       "      <th>3</th>\n",
       "      <td>10/4/2023</td>\n",
       "      <td>11:40</td>\n",
       "      <td>Flash</td>\n",
       "      <td>✋✋✋</td>\n",
       "    </tr>\n",
       "    <tr>\n",
       "      <th>4</th>\n",
       "      <td>10/4/2023</td>\n",
       "      <td>11:41</td>\n",
       "      <td>Flash</td>\n",
       "      <td>Rola las fotos Wonder Woman</td>\n",
       "    </tr>\n",
       "  </tbody>\n",
       "</table>\n",
       "</div>"
      ],
      "text/plain": [
       "       fecha   hora    usuario  \\\n",
       "0  10/4/2023  11:39  <Sistema>   \n",
       "1  10/4/2023  11:39  <Sistema>   \n",
       "2  10/4/2023  11:39  <Sistema>   \n",
       "3  10/4/2023  11:40      Flash   \n",
       "4  10/4/2023  11:41      Flash   \n",
       "\n",
       "                                             mensaje  \n",
       "0  Los mensajes y las llamadas están cifrados de ...  \n",
       "1               ‎Wonder Woman creó el grupo \"grupo\".  \n",
       "2                            ‎Wonder Woman te añadió  \n",
       "3                                                ✋✋✋  \n",
       "4                        Rola las fotos Wonder Woman  "
      ]
     },
     "execution_count": 22,
     "metadata": {},
     "output_type": "execute_result"
    }
   ],
   "source": [
    "df.head()"
   ]
  },
  {
   "cell_type": "code",
   "execution_count": 23,
   "id": "93e1cd17",
   "metadata": {},
   "outputs": [
    {
     "data": {
      "text/plain": [
       "fecha      object\n",
       "hora       object\n",
       "usuario    object\n",
       "mensaje    object\n",
       "dtype: object"
      ]
     },
     "execution_count": 23,
     "metadata": {},
     "output_type": "execute_result"
    }
   ],
   "source": [
    "df.dtypes"
   ]
  },
  {
   "cell_type": "markdown",
   "id": "0295d49e",
   "metadata": {},
   "source": [
    "Es necesario unir la fecha y hora una sola columna `datetime`:"
   ]
  },
  {
   "cell_type": "code",
   "execution_count": 24,
   "id": "cae9ad60",
   "metadata": {},
   "outputs": [
    {
     "data": {
      "text/plain": [
       "0   2023-04-10 11:39:00\n",
       "1   2023-04-10 11:39:00\n",
       "2   2023-04-10 11:39:00\n",
       "3   2023-04-10 11:40:00\n",
       "4   2023-04-10 11:41:00\n",
       "Name: datetime, dtype: datetime64[ns]"
      ]
     },
     "execution_count": 24,
     "metadata": {},
     "output_type": "execute_result"
    }
   ],
   "source": [
    "df['datetime'] = pd.to_datetime(df['fecha'] + ' ' + df['hora'], format=\"%d/%m/%Y %H:%M\")\n",
    "df['datetime'].head()"
   ]
  },
  {
   "cell_type": "markdown",
   "id": "69a3c353",
   "metadata": {},
   "source": [
    "Ahora, analicemos la columna `mensaje` para determinar el tipo de mensaje: "
   ]
  },
  {
   "cell_type": "code",
   "execution_count": 25,
   "id": "fdc6c5bd",
   "metadata": {},
   "outputs": [
    {
     "data": {
      "text/plain": [
       "0    Los mensajes y las llamadas están cifrados de ...\n",
       "1                 ‎Wonder Woman creó el grupo \"grupo\".\n",
       "2                              ‎Wonder Woman te añadió\n",
       "3                                                  ✋✋✋\n",
       "4                          Rola las fotos Wonder Woman\n",
       "Name: mensaje, dtype: object"
      ]
     },
     "execution_count": 25,
     "metadata": {},
     "output_type": "execute_result"
    }
   ],
   "source": [
    "df['mensaje'].head()"
   ]
  },
  {
   "cell_type": "markdown",
   "id": "e426b16c",
   "metadata": {},
   "source": [
    "Para evitar errores con mayúsculas, es conveniente normalizar los de mensajes: "
   ]
  },
  {
   "cell_type": "code",
   "execution_count": 26,
   "id": "c15f60ee",
   "metadata": {},
   "outputs": [],
   "source": [
    "df['mensaje'] = df['mensaje'].str.lower()"
   ]
  },
  {
   "cell_type": "markdown",
   "id": "e779dc0d",
   "metadata": {},
   "source": [
    "Vemos que los elementos multimedia (*stickers*, *videos*, etc.) se identifican con la palabra `<multimedia omitido>`: "
   ]
  },
  {
   "cell_type": "code",
   "execution_count": 28,
   "id": "38991092",
   "metadata": {},
   "outputs": [
    {
     "data": {
      "text/plain": [
       "array(['<multimedia omitido>'], dtype=object)"
      ]
     },
     "execution_count": 28,
     "metadata": {},
     "output_type": "execute_result"
    }
   ],
   "source": [
    "multimedias = df[df['mensaje'].str.contains('multimedia')]\n",
    "multimedias['mensaje'].unique()"
   ]
  },
  {
   "cell_type": "markdown",
   "id": "17400f34",
   "metadata": {},
   "source": [
    "Debido a que se han exportado los mensajes considerando únicamente los mensajes, no es posible saber si el mensaje multimedia es un *audio*, *video*, *imagen*, *documento* ó *sticker*. Por lo que las categorias de tipo de mensaje serán unicamente `texto` y `multimedia`.\n",
    "\n",
    "Definimos la función clasificadora y posteriormente creamos la columna `tipo` para que cada mensaje tenga asociado su tipo: "
   ]
  },
  {
   "cell_type": "code",
   "execution_count": 29,
   "id": "3e284251",
   "metadata": {},
   "outputs": [],
   "source": [
    "def classify_msg(line): \n",
    "    if 'multimedia' in line:\n",
    "        return 'multimedia'\n",
    "    else: \n",
    "        return 'texto'"
   ]
  },
  {
   "cell_type": "code",
   "execution_count": 30,
   "id": "f357bf36",
   "metadata": {},
   "outputs": [],
   "source": [
    "df['tipo'] = df['mensaje'].apply(classify_msg)"
   ]
  },
  {
   "cell_type": "code",
   "execution_count": 33,
   "id": "cd601268",
   "metadata": {},
   "outputs": [
    {
     "data": {
      "text/plain": [
       "0         texto\n",
       "1         texto\n",
       "2         texto\n",
       "3         texto\n",
       "4         texto\n",
       "5         texto\n",
       "6         texto\n",
       "7         texto\n",
       "8    multimedia\n",
       "9    multimedia\n",
       "Name: tipo, dtype: object"
      ]
     },
     "execution_count": 33,
     "metadata": {},
     "output_type": "execute_result"
    }
   ],
   "source": [
    "df['tipo'].head(10)"
   ]
  },
  {
   "cell_type": "markdown",
   "id": "1cc61a58",
   "metadata": {},
   "source": [
    "¡Los tipos de mensaje se han asociado correctamente!\n",
    "\n",
    "Ahora, creamos la columna `num_palabras` que almacena la cantidad de palabras en cada mensaje: "
   ]
  },
  {
   "cell_type": "code",
   "execution_count": 35,
   "id": "1cc3d518",
   "metadata": {},
   "outputs": [],
   "source": [
    "df['num_palabras'] = df['mensaje'].str.split(' ').str.len()"
   ]
  },
  {
   "cell_type": "code",
   "execution_count": 37,
   "id": "4781c816",
   "metadata": {},
   "outputs": [
    {
     "data": {
      "text/html": [
       "<div>\n",
       "<style scoped>\n",
       "    .dataframe tbody tr th:only-of-type {\n",
       "        vertical-align: middle;\n",
       "    }\n",
       "\n",
       "    .dataframe tbody tr th {\n",
       "        vertical-align: top;\n",
       "    }\n",
       "\n",
       "    .dataframe thead th {\n",
       "        text-align: right;\n",
       "    }\n",
       "</style>\n",
       "<table border=\"1\" class=\"dataframe\">\n",
       "  <thead>\n",
       "    <tr style=\"text-align: right;\">\n",
       "      <th></th>\n",
       "      <th>fecha</th>\n",
       "      <th>hora</th>\n",
       "      <th>usuario</th>\n",
       "      <th>mensaje</th>\n",
       "      <th>datetime</th>\n",
       "      <th>tipo</th>\n",
       "      <th>num_palabras</th>\n",
       "    </tr>\n",
       "  </thead>\n",
       "  <tbody>\n",
       "    <tr>\n",
       "      <th>0</th>\n",
       "      <td>10/4/2023</td>\n",
       "      <td>11:39</td>\n",
       "      <td>&lt;Sistema&gt;</td>\n",
       "      <td>los mensajes y las llamadas están cifrados de ...</td>\n",
       "      <td>2023-04-10 11:39:00</td>\n",
       "      <td>texto</td>\n",
       "      <td>25</td>\n",
       "    </tr>\n",
       "    <tr>\n",
       "      <th>1</th>\n",
       "      <td>10/4/2023</td>\n",
       "      <td>11:39</td>\n",
       "      <td>&lt;Sistema&gt;</td>\n",
       "      <td>‎wonder woman creó el grupo \"grupo\".</td>\n",
       "      <td>2023-04-10 11:39:00</td>\n",
       "      <td>texto</td>\n",
       "      <td>6</td>\n",
       "    </tr>\n",
       "    <tr>\n",
       "      <th>2</th>\n",
       "      <td>10/4/2023</td>\n",
       "      <td>11:39</td>\n",
       "      <td>&lt;Sistema&gt;</td>\n",
       "      <td>‎wonder woman te añadió</td>\n",
       "      <td>2023-04-10 11:39:00</td>\n",
       "      <td>texto</td>\n",
       "      <td>4</td>\n",
       "    </tr>\n",
       "    <tr>\n",
       "      <th>3</th>\n",
       "      <td>10/4/2023</td>\n",
       "      <td>11:40</td>\n",
       "      <td>Flash</td>\n",
       "      <td>✋✋✋</td>\n",
       "      <td>2023-04-10 11:40:00</td>\n",
       "      <td>texto</td>\n",
       "      <td>1</td>\n",
       "    </tr>\n",
       "    <tr>\n",
       "      <th>4</th>\n",
       "      <td>10/4/2023</td>\n",
       "      <td>11:41</td>\n",
       "      <td>Flash</td>\n",
       "      <td>rola las fotos wonder woman</td>\n",
       "      <td>2023-04-10 11:41:00</td>\n",
       "      <td>texto</td>\n",
       "      <td>5</td>\n",
       "    </tr>\n",
       "  </tbody>\n",
       "</table>\n",
       "</div>"
      ],
      "text/plain": [
       "       fecha   hora    usuario  \\\n",
       "0  10/4/2023  11:39  <Sistema>   \n",
       "1  10/4/2023  11:39  <Sistema>   \n",
       "2  10/4/2023  11:39  <Sistema>   \n",
       "3  10/4/2023  11:40      Flash   \n",
       "4  10/4/2023  11:41      Flash   \n",
       "\n",
       "                                             mensaje            datetime  \\\n",
       "0  los mensajes y las llamadas están cifrados de ... 2023-04-10 11:39:00   \n",
       "1               ‎wonder woman creó el grupo \"grupo\". 2023-04-10 11:39:00   \n",
       "2                            ‎wonder woman te añadió 2023-04-10 11:39:00   \n",
       "3                                                ✋✋✋ 2023-04-10 11:40:00   \n",
       "4                        rola las fotos wonder woman 2023-04-10 11:41:00   \n",
       "\n",
       "    tipo  num_palabras  \n",
       "0  texto            25  \n",
       "1  texto             6  \n",
       "2  texto             4  \n",
       "3  texto             1  \n",
       "4  texto             5  "
      ]
     },
     "execution_count": 37,
     "metadata": {},
     "output_type": "execute_result"
    }
   ],
   "source": [
    "df.head()"
   ]
  },
  {
   "cell_type": "markdown",
   "id": "9f1a80ab",
   "metadata": {},
   "source": [
    "Por último, creamos la columna `num_chars` que almacena la cantidad de carácteres de cada mensaje: "
   ]
  },
  {
   "cell_type": "code",
   "execution_count": 38,
   "id": "bbb463a3",
   "metadata": {},
   "outputs": [],
   "source": [
    "df['num_chars'] = df['mensaje'].str.len()"
   ]
  },
  {
   "cell_type": "code",
   "execution_count": 40,
   "id": "37cb1dfe",
   "metadata": {},
   "outputs": [
    {
     "data": {
      "text/html": [
       "<div>\n",
       "<style scoped>\n",
       "    .dataframe tbody tr th:only-of-type {\n",
       "        vertical-align: middle;\n",
       "    }\n",
       "\n",
       "    .dataframe tbody tr th {\n",
       "        vertical-align: top;\n",
       "    }\n",
       "\n",
       "    .dataframe thead th {\n",
       "        text-align: right;\n",
       "    }\n",
       "</style>\n",
       "<table border=\"1\" class=\"dataframe\">\n",
       "  <thead>\n",
       "    <tr style=\"text-align: right;\">\n",
       "      <th></th>\n",
       "      <th>fecha</th>\n",
       "      <th>hora</th>\n",
       "      <th>usuario</th>\n",
       "      <th>mensaje</th>\n",
       "      <th>datetime</th>\n",
       "      <th>tipo</th>\n",
       "      <th>num_palabras</th>\n",
       "      <th>num_chars</th>\n",
       "    </tr>\n",
       "  </thead>\n",
       "  <tbody>\n",
       "    <tr>\n",
       "      <th>0</th>\n",
       "      <td>10/4/2023</td>\n",
       "      <td>11:39</td>\n",
       "      <td>&lt;Sistema&gt;</td>\n",
       "      <td>los mensajes y las llamadas están cifrados de ...</td>\n",
       "      <td>2023-04-10 11:39:00</td>\n",
       "      <td>texto</td>\n",
       "      <td>25</td>\n",
       "      <td>162</td>\n",
       "    </tr>\n",
       "    <tr>\n",
       "      <th>1</th>\n",
       "      <td>10/4/2023</td>\n",
       "      <td>11:39</td>\n",
       "      <td>&lt;Sistema&gt;</td>\n",
       "      <td>‎wonder woman creó el grupo \"grupo\".</td>\n",
       "      <td>2023-04-10 11:39:00</td>\n",
       "      <td>texto</td>\n",
       "      <td>6</td>\n",
       "      <td>36</td>\n",
       "    </tr>\n",
       "    <tr>\n",
       "      <th>2</th>\n",
       "      <td>10/4/2023</td>\n",
       "      <td>11:39</td>\n",
       "      <td>&lt;Sistema&gt;</td>\n",
       "      <td>‎wonder woman te añadió</td>\n",
       "      <td>2023-04-10 11:39:00</td>\n",
       "      <td>texto</td>\n",
       "      <td>4</td>\n",
       "      <td>23</td>\n",
       "    </tr>\n",
       "    <tr>\n",
       "      <th>3</th>\n",
       "      <td>10/4/2023</td>\n",
       "      <td>11:40</td>\n",
       "      <td>Flash</td>\n",
       "      <td>✋✋✋</td>\n",
       "      <td>2023-04-10 11:40:00</td>\n",
       "      <td>texto</td>\n",
       "      <td>1</td>\n",
       "      <td>3</td>\n",
       "    </tr>\n",
       "    <tr>\n",
       "      <th>4</th>\n",
       "      <td>10/4/2023</td>\n",
       "      <td>11:41</td>\n",
       "      <td>Flash</td>\n",
       "      <td>rola las fotos wonder woman</td>\n",
       "      <td>2023-04-10 11:41:00</td>\n",
       "      <td>texto</td>\n",
       "      <td>5</td>\n",
       "      <td>27</td>\n",
       "    </tr>\n",
       "  </tbody>\n",
       "</table>\n",
       "</div>"
      ],
      "text/plain": [
       "       fecha   hora    usuario  \\\n",
       "0  10/4/2023  11:39  <Sistema>   \n",
       "1  10/4/2023  11:39  <Sistema>   \n",
       "2  10/4/2023  11:39  <Sistema>   \n",
       "3  10/4/2023  11:40      Flash   \n",
       "4  10/4/2023  11:41      Flash   \n",
       "\n",
       "                                             mensaje            datetime  \\\n",
       "0  los mensajes y las llamadas están cifrados de ... 2023-04-10 11:39:00   \n",
       "1               ‎wonder woman creó el grupo \"grupo\". 2023-04-10 11:39:00   \n",
       "2                            ‎wonder woman te añadió 2023-04-10 11:39:00   \n",
       "3                                                ✋✋✋ 2023-04-10 11:40:00   \n",
       "4                        rola las fotos wonder woman 2023-04-10 11:41:00   \n",
       "\n",
       "    tipo  num_palabras  num_chars  \n",
       "0  texto            25        162  \n",
       "1  texto             6         36  \n",
       "2  texto             4         23  \n",
       "3  texto             1          3  \n",
       "4  texto             5         27  "
      ]
     },
     "execution_count": 40,
     "metadata": {},
     "output_type": "execute_result"
    }
   ],
   "source": [
    "df.head()"
   ]
  },
  {
   "cell_type": "code",
   "execution_count": 41,
   "id": "68e8a801",
   "metadata": {},
   "outputs": [
    {
     "data": {
      "text/plain": [
       "fecha                   object\n",
       "hora                    object\n",
       "usuario                 object\n",
       "mensaje                 object\n",
       "datetime        datetime64[ns]\n",
       "tipo                    object\n",
       "num_palabras             int64\n",
       "num_chars                int64\n",
       "dtype: object"
      ]
     },
     "execution_count": 41,
     "metadata": {},
     "output_type": "execute_result"
    }
   ],
   "source": [
    "df.dtypes"
   ]
  },
  {
   "cell_type": "markdown",
   "id": "996a0289",
   "metadata": {},
   "source": [
    "¡La limpieza esta completa!\n",
    "\n",
    "Reorganicemos las columnas del `DataFrame`: "
   ]
  },
  {
   "cell_type": "code",
   "execution_count": 42,
   "id": "dde860d6",
   "metadata": {},
   "outputs": [
    {
     "data": {
      "text/html": [
       "<div>\n",
       "<style scoped>\n",
       "    .dataframe tbody tr th:only-of-type {\n",
       "        vertical-align: middle;\n",
       "    }\n",
       "\n",
       "    .dataframe tbody tr th {\n",
       "        vertical-align: top;\n",
       "    }\n",
       "\n",
       "    .dataframe thead th {\n",
       "        text-align: right;\n",
       "    }\n",
       "</style>\n",
       "<table border=\"1\" class=\"dataframe\">\n",
       "  <thead>\n",
       "    <tr style=\"text-align: right;\">\n",
       "      <th></th>\n",
       "      <th>datetime</th>\n",
       "      <th>usuario</th>\n",
       "      <th>mensaje</th>\n",
       "      <th>tipo</th>\n",
       "      <th>num_palabras</th>\n",
       "      <th>num_chars</th>\n",
       "    </tr>\n",
       "  </thead>\n",
       "  <tbody>\n",
       "    <tr>\n",
       "      <th>0</th>\n",
       "      <td>2023-04-10 11:39:00</td>\n",
       "      <td>&lt;Sistema&gt;</td>\n",
       "      <td>los mensajes y las llamadas están cifrados de ...</td>\n",
       "      <td>texto</td>\n",
       "      <td>25</td>\n",
       "      <td>162</td>\n",
       "    </tr>\n",
       "    <tr>\n",
       "      <th>1</th>\n",
       "      <td>2023-04-10 11:39:00</td>\n",
       "      <td>&lt;Sistema&gt;</td>\n",
       "      <td>‎wonder woman creó el grupo \"grupo\".</td>\n",
       "      <td>texto</td>\n",
       "      <td>6</td>\n",
       "      <td>36</td>\n",
       "    </tr>\n",
       "    <tr>\n",
       "      <th>2</th>\n",
       "      <td>2023-04-10 11:39:00</td>\n",
       "      <td>&lt;Sistema&gt;</td>\n",
       "      <td>‎wonder woman te añadió</td>\n",
       "      <td>texto</td>\n",
       "      <td>4</td>\n",
       "      <td>23</td>\n",
       "    </tr>\n",
       "    <tr>\n",
       "      <th>3</th>\n",
       "      <td>2023-04-10 11:40:00</td>\n",
       "      <td>Flash</td>\n",
       "      <td>✋✋✋</td>\n",
       "      <td>texto</td>\n",
       "      <td>1</td>\n",
       "      <td>3</td>\n",
       "    </tr>\n",
       "    <tr>\n",
       "      <th>4</th>\n",
       "      <td>2023-04-10 11:41:00</td>\n",
       "      <td>Flash</td>\n",
       "      <td>rola las fotos wonder woman</td>\n",
       "      <td>texto</td>\n",
       "      <td>5</td>\n",
       "      <td>27</td>\n",
       "    </tr>\n",
       "  </tbody>\n",
       "</table>\n",
       "</div>"
      ],
      "text/plain": [
       "             datetime    usuario  \\\n",
       "0 2023-04-10 11:39:00  <Sistema>   \n",
       "1 2023-04-10 11:39:00  <Sistema>   \n",
       "2 2023-04-10 11:39:00  <Sistema>   \n",
       "3 2023-04-10 11:40:00      Flash   \n",
       "4 2023-04-10 11:41:00      Flash   \n",
       "\n",
       "                                             mensaje   tipo  num_palabras  \\\n",
       "0  los mensajes y las llamadas están cifrados de ...  texto            25   \n",
       "1               ‎wonder woman creó el grupo \"grupo\".  texto             6   \n",
       "2                            ‎wonder woman te añadió  texto             4   \n",
       "3                                                ✋✋✋  texto             1   \n",
       "4                        rola las fotos wonder woman  texto             5   \n",
       "\n",
       "   num_chars  \n",
       "0        162  \n",
       "1         36  \n",
       "2         23  \n",
       "3          3  \n",
       "4         27  "
      ]
     },
     "execution_count": 42,
     "metadata": {},
     "output_type": "execute_result"
    }
   ],
   "source": [
    "df = df[['datetime', 'usuario', 'mensaje', 'tipo', 'num_palabras', 'num_chars']]\n",
    "df.head()"
   ]
  },
  {
   "cell_type": "markdown",
   "id": "8256212d",
   "metadata": {},
   "source": [
    "Finalmente, guardamos el dataframe ya procesado para su posterior análisis: "
   ]
  },
  {
   "cell_type": "code",
   "execution_count": 43,
   "id": "2cb27eea",
   "metadata": {},
   "outputs": [],
   "source": [
    "cleanpath = PROCESSED / \"grupo_clean.csv\""
   ]
  },
  {
   "cell_type": "code",
   "execution_count": 44,
   "id": "bb75c2db",
   "metadata": {},
   "outputs": [],
   "source": [
    "df.to_csv(cleanpath)"
   ]
  },
  {
   "cell_type": "markdown",
   "id": "d7771fbe",
   "metadata": {},
   "source": [
    "## 4 Análisis Exploratorio de Datos\n",
    "\n",
    "Primero cargamos el dataset previamente limpiado: "
   ]
  },
  {
   "cell_type": "code",
   "execution_count": 45,
   "id": "66cf523c",
   "metadata": {},
   "outputs": [],
   "source": [
    "df = pd.read_csv(cleanpath, index_col=0)"
   ]
  },
  {
   "cell_type": "code",
   "execution_count": 46,
   "id": "4f39184b",
   "metadata": {},
   "outputs": [
    {
     "data": {
      "text/html": [
       "<div>\n",
       "<style scoped>\n",
       "    .dataframe tbody tr th:only-of-type {\n",
       "        vertical-align: middle;\n",
       "    }\n",
       "\n",
       "    .dataframe tbody tr th {\n",
       "        vertical-align: top;\n",
       "    }\n",
       "\n",
       "    .dataframe thead th {\n",
       "        text-align: right;\n",
       "    }\n",
       "</style>\n",
       "<table border=\"1\" class=\"dataframe\">\n",
       "  <thead>\n",
       "    <tr style=\"text-align: right;\">\n",
       "      <th></th>\n",
       "      <th>datetime</th>\n",
       "      <th>usuario</th>\n",
       "      <th>mensaje</th>\n",
       "      <th>tipo</th>\n",
       "      <th>num_palabras</th>\n",
       "      <th>num_chars</th>\n",
       "    </tr>\n",
       "  </thead>\n",
       "  <tbody>\n",
       "    <tr>\n",
       "      <th>0</th>\n",
       "      <td>2023-04-10 11:39:00</td>\n",
       "      <td>&lt;Sistema&gt;</td>\n",
       "      <td>los mensajes y las llamadas están cifrados de ...</td>\n",
       "      <td>texto</td>\n",
       "      <td>25</td>\n",
       "      <td>162</td>\n",
       "    </tr>\n",
       "    <tr>\n",
       "      <th>1</th>\n",
       "      <td>2023-04-10 11:39:00</td>\n",
       "      <td>&lt;Sistema&gt;</td>\n",
       "      <td>‎wonder woman creó el grupo \"grupo\".</td>\n",
       "      <td>texto</td>\n",
       "      <td>6</td>\n",
       "      <td>36</td>\n",
       "    </tr>\n",
       "    <tr>\n",
       "      <th>2</th>\n",
       "      <td>2023-04-10 11:39:00</td>\n",
       "      <td>&lt;Sistema&gt;</td>\n",
       "      <td>‎wonder woman te añadió</td>\n",
       "      <td>texto</td>\n",
       "      <td>4</td>\n",
       "      <td>23</td>\n",
       "    </tr>\n",
       "    <tr>\n",
       "      <th>3</th>\n",
       "      <td>2023-04-10 11:40:00</td>\n",
       "      <td>Flash</td>\n",
       "      <td>✋✋✋</td>\n",
       "      <td>texto</td>\n",
       "      <td>1</td>\n",
       "      <td>3</td>\n",
       "    </tr>\n",
       "    <tr>\n",
       "      <th>4</th>\n",
       "      <td>2023-04-10 11:41:00</td>\n",
       "      <td>Flash</td>\n",
       "      <td>rola las fotos wonder woman</td>\n",
       "      <td>texto</td>\n",
       "      <td>5</td>\n",
       "      <td>27</td>\n",
       "    </tr>\n",
       "  </tbody>\n",
       "</table>\n",
       "</div>"
      ],
      "text/plain": [
       "              datetime    usuario  \\\n",
       "0  2023-04-10 11:39:00  <Sistema>   \n",
       "1  2023-04-10 11:39:00  <Sistema>   \n",
       "2  2023-04-10 11:39:00  <Sistema>   \n",
       "3  2023-04-10 11:40:00      Flash   \n",
       "4  2023-04-10 11:41:00      Flash   \n",
       "\n",
       "                                             mensaje   tipo  num_palabras  \\\n",
       "0  los mensajes y las llamadas están cifrados de ...  texto            25   \n",
       "1               ‎wonder woman creó el grupo \"grupo\".  texto             6   \n",
       "2                            ‎wonder woman te añadió  texto             4   \n",
       "3                                                ✋✋✋  texto             1   \n",
       "4                        rola las fotos wonder woman  texto             5   \n",
       "\n",
       "   num_chars  \n",
       "0        162  \n",
       "1         36  \n",
       "2         23  \n",
       "3          3  \n",
       "4         27  "
      ]
     },
     "execution_count": 46,
     "metadata": {},
     "output_type": "execute_result"
    }
   ],
   "source": [
    "df.head()   # Ok"
   ]
  },
  {
   "cell_type": "markdown",
   "id": "8be6016e",
   "metadata": {},
   "source": [
    "Validamos los *types* de cada columna: "
   ]
  },
  {
   "cell_type": "code",
   "execution_count": 47,
   "id": "3c166bf7",
   "metadata": {},
   "outputs": [
    {
     "data": {
      "text/plain": [
       "datetime        object\n",
       "usuario         object\n",
       "mensaje         object\n",
       "tipo            object\n",
       "num_palabras     int64\n",
       "num_chars        int64\n",
       "dtype: object"
      ]
     },
     "execution_count": 47,
     "metadata": {},
     "output_type": "execute_result"
    }
   ],
   "source": [
    "df.dtypes"
   ]
  },
  {
   "cell_type": "markdown",
   "id": "6ef46c22",
   "metadata": {},
   "source": [
    "Solo es necesario *parsear* la columna `datetime`: "
   ]
  },
  {
   "cell_type": "code",
   "execution_count": 48,
   "id": "5a4b342b",
   "metadata": {},
   "outputs": [],
   "source": [
    "df['datetime'] = pd.to_datetime(df['datetime'])"
   ]
  },
  {
   "cell_type": "code",
   "execution_count": 49,
   "id": "8dcd3d41",
   "metadata": {},
   "outputs": [
    {
     "data": {
      "text/plain": [
       "datetime        datetime64[ns]\n",
       "usuario                 object\n",
       "mensaje                 object\n",
       "tipo                    object\n",
       "num_palabras             int64\n",
       "num_chars                int64\n",
       "dtype: object"
      ]
     },
     "execution_count": 49,
     "metadata": {},
     "output_type": "execute_result"
    }
   ],
   "source": [
    "df.dtypes"
   ]
  },
  {
   "cell_type": "code",
   "execution_count": 50,
   "id": "f0f8cd19",
   "metadata": {},
   "outputs": [
    {
     "name": "stdout",
     "output_type": "stream",
     "text": [
      "<class 'pandas.core.frame.DataFrame'>\n",
      "Index: 10769 entries, 0 to 10768\n",
      "Data columns (total 6 columns):\n",
      " #   Column        Non-Null Count  Dtype         \n",
      "---  ------        --------------  -----         \n",
      " 0   datetime      10769 non-null  datetime64[ns]\n",
      " 1   usuario       10769 non-null  object        \n",
      " 2   mensaje       10769 non-null  object        \n",
      " 3   tipo          10769 non-null  object        \n",
      " 4   num_palabras  10769 non-null  int64         \n",
      " 5   num_chars     10769 non-null  int64         \n",
      "dtypes: datetime64[ns](1), int64(2), object(3)\n",
      "memory usage: 588.9+ KB\n"
     ]
    }
   ],
   "source": [
    "df.info()"
   ]
  },
  {
   "cell_type": "markdown",
   "id": "8fe13f20",
   "metadata": {},
   "source": [
    "¡Correcto!\n",
    "\n",
    "Observamos que hay 10769 registros y no hay ningún elemento nulo. \n",
    "\n",
    "Procedemos a hacer el análisis exploratorio de los datos. "
   ]
  },
  {
   "cell_type": "markdown",
   "id": "9688050d",
   "metadata": {},
   "source": [
    "### 4.1 Estadísticas Descriptivas\n",
    "\n",
    "Una descripción estadística de las variables numércias: "
   ]
  },
  {
   "cell_type": "code",
   "execution_count": 51,
   "id": "4e48776b",
   "metadata": {},
   "outputs": [
    {
     "data": {
      "text/html": [
       "<div>\n",
       "<style scoped>\n",
       "    .dataframe tbody tr th:only-of-type {\n",
       "        vertical-align: middle;\n",
       "    }\n",
       "\n",
       "    .dataframe tbody tr th {\n",
       "        vertical-align: top;\n",
       "    }\n",
       "\n",
       "    .dataframe thead th {\n",
       "        text-align: right;\n",
       "    }\n",
       "</style>\n",
       "<table border=\"1\" class=\"dataframe\">\n",
       "  <thead>\n",
       "    <tr style=\"text-align: right;\">\n",
       "      <th></th>\n",
       "      <th>num_palabras</th>\n",
       "      <th>num_chars</th>\n",
       "    </tr>\n",
       "  </thead>\n",
       "  <tbody>\n",
       "    <tr>\n",
       "      <th>count</th>\n",
       "      <td>10769.000000</td>\n",
       "      <td>10769.000000</td>\n",
       "    </tr>\n",
       "    <tr>\n",
       "      <th>mean</th>\n",
       "      <td>4.176897</td>\n",
       "      <td>23.938249</td>\n",
       "    </tr>\n",
       "    <tr>\n",
       "      <th>std</th>\n",
       "      <td>5.218570</td>\n",
       "      <td>30.572135</td>\n",
       "    </tr>\n",
       "    <tr>\n",
       "      <th>min</th>\n",
       "      <td>1.000000</td>\n",
       "      <td>1.000000</td>\n",
       "    </tr>\n",
       "    <tr>\n",
       "      <th>25%</th>\n",
       "      <td>2.000000</td>\n",
       "      <td>11.000000</td>\n",
       "    </tr>\n",
       "    <tr>\n",
       "      <th>50%</th>\n",
       "      <td>3.000000</td>\n",
       "      <td>20.000000</td>\n",
       "    </tr>\n",
       "    <tr>\n",
       "      <th>75%</th>\n",
       "      <td>5.000000</td>\n",
       "      <td>28.000000</td>\n",
       "    </tr>\n",
       "    <tr>\n",
       "      <th>max</th>\n",
       "      <td>219.000000</td>\n",
       "      <td>1385.000000</td>\n",
       "    </tr>\n",
       "  </tbody>\n",
       "</table>\n",
       "</div>"
      ],
      "text/plain": [
       "       num_palabras     num_chars\n",
       "count  10769.000000  10769.000000\n",
       "mean       4.176897     23.938249\n",
       "std        5.218570     30.572135\n",
       "min        1.000000      1.000000\n",
       "25%        2.000000     11.000000\n",
       "50%        3.000000     20.000000\n",
       "75%        5.000000     28.000000\n",
       "max      219.000000   1385.000000"
      ]
     },
     "execution_count": 51,
     "metadata": {},
     "output_type": "execute_result"
    }
   ],
   "source": [
    "df.select_dtypes('int64').describe()"
   ]
  },
  {
   "cell_type": "markdown",
   "id": "09af8d45",
   "metadata": {},
   "source": [
    "* El promedio de palabras por mensaje es de 4 con una desviación estándar de 5.\n",
    "\n",
    "* EL promedio de carácteres por mensaje es de 5 con una desviación estándar de 30. \n",
    "\n",
    "* La mayoria de los mensajes poseen entre 2 y 5 palabras y entre 11 y 28 carácteres. \n",
    "\n",
    "* El máximo de palabras en un solo mensaje fue de 219 con 1385 carácteres. \n",
    "\n",
    "Analicemos los mensajes con un solo carácter: "
   ]
  },
  {
   "cell_type": "code",
   "execution_count": 57,
   "id": "522e9230",
   "metadata": {},
   "outputs": [
    {
     "data": {
      "text/html": [
       "<div>\n",
       "<style scoped>\n",
       "    .dataframe tbody tr th:only-of-type {\n",
       "        vertical-align: middle;\n",
       "    }\n",
       "\n",
       "    .dataframe tbody tr th {\n",
       "        vertical-align: top;\n",
       "    }\n",
       "\n",
       "    .dataframe thead th {\n",
       "        text-align: right;\n",
       "    }\n",
       "</style>\n",
       "<table border=\"1\" class=\"dataframe\">\n",
       "  <thead>\n",
       "    <tr style=\"text-align: right;\">\n",
       "      <th></th>\n",
       "      <th>mensaje</th>\n",
       "      <th>count</th>\n",
       "    </tr>\n",
       "  </thead>\n",
       "  <tbody>\n",
       "    <tr>\n",
       "      <th>0</th>\n",
       "      <td>jajajajaja</td>\n",
       "      <td>62</td>\n",
       "    </tr>\n",
       "    <tr>\n",
       "      <th>1</th>\n",
       "      <td>si</td>\n",
       "      <td>47</td>\n",
       "    </tr>\n",
       "    <tr>\n",
       "      <th>2</th>\n",
       "      <td>jajajajaj</td>\n",
       "      <td>44</td>\n",
       "    </tr>\n",
       "    <tr>\n",
       "      <th>3</th>\n",
       "      <td>?</td>\n",
       "      <td>42</td>\n",
       "    </tr>\n",
       "    <tr>\n",
       "      <th>4</th>\n",
       "      <td>smn</td>\n",
       "      <td>41</td>\n",
       "    </tr>\n",
       "    <tr>\n",
       "      <th>5</th>\n",
       "      <td>@⁨batman⁩</td>\n",
       "      <td>39</td>\n",
       "    </tr>\n",
       "    <tr>\n",
       "      <th>6</th>\n",
       "      <td>@⁨aquaman⁩</td>\n",
       "      <td>37</td>\n",
       "    </tr>\n",
       "    <tr>\n",
       "      <th>7</th>\n",
       "      <td>jajajajajaj</td>\n",
       "      <td>32</td>\n",
       "    </tr>\n",
       "    <tr>\n",
       "      <th>8</th>\n",
       "      <td>no</td>\n",
       "      <td>31</td>\n",
       "    </tr>\n",
       "    <tr>\n",
       "      <th>9</th>\n",
       "      <td>nel</td>\n",
       "      <td>24</td>\n",
       "    </tr>\n",
       "  </tbody>\n",
       "</table>\n",
       "</div>"
      ],
      "text/plain": [
       "       mensaje  count\n",
       "0   jajajajaja     62\n",
       "1           si     47\n",
       "2    jajajajaj     44\n",
       "3            ?     42\n",
       "4          smn     41\n",
       "5    @⁨batman⁩     39\n",
       "6   @⁨aquaman⁩     37\n",
       "7  jajajajajaj     32\n",
       "8           no     31\n",
       "9          nel     24"
      ]
     },
     "execution_count": 57,
     "metadata": {},
     "output_type": "execute_result"
    }
   ],
   "source": [
    "df[df['num_palabras'] == 1]['mensaje'].value_counts().head(10).reset_index()"
   ]
  },
  {
   "cell_type": "markdown",
   "id": "2f5877ff",
   "metadata": {},
   "source": [
    "Los mensajes de una palabra/caractero son aquellos relacionados a afirmaciones/negaciones y sentencias usadas en contextos de diversión, además de referencias a usuarios (denotadas por `@usuario`). \n",
    "\n",
    "Notemos que los usuarios **Batman** y **Aquaman** fueron referenciados en multiples ocasiones: ¿será porque no contestan? \n",
    "\n",
    "Ahora consideremos el mensaje más largo de todo el chat: "
   ]
  },
  {
   "cell_type": "code",
   "execution_count": 64,
   "id": "fdac779d",
   "metadata": {},
   "outputs": [
    {
     "data": {
      "text/plain": [
       "datetime                                      2023-08-17 18:09:00\n",
       "usuario                                              Wonder Woman\n",
       "mensaje         adios cubo en el rincón del saber, el cubo yac...\n",
       "tipo                                                        texto\n",
       "num_palabras                                                  219\n",
       "num_chars                                                    1385\n",
       "Name: 3411, dtype: object"
      ]
     },
     "execution_count": 64,
     "metadata": {},
     "output_type": "execute_result"
    }
   ],
   "source": [
    "max_words = df.loc[df['num_palabras'].idxmax()]\n",
    "max_words"
   ]
  },
  {
   "cell_type": "markdown",
   "id": "38559a56",
   "metadata": {},
   "source": [
    "Vemos que la fecha es de `2023-08-17 18:09:00` y que fue mandado por **Wonder Woman**. \n",
    "\n",
    "Analicemos el contenido del mensaje: "
   ]
  },
  {
   "cell_type": "code",
   "execution_count": 66,
   "id": "d2e53bdd",
   "metadata": {},
   "outputs": [
    {
     "name": "stdout",
     "output_type": "stream",
     "text": [
      "adios cubo en el rincón del saber\n",
      " el cubo yacía\n",
      " un espacio donde el tiempo se desvanecía\n",
      " física danzante en el espacio-tiempo enlazada\n",
      " nuestros corazones allí encontraban morada. sus paredes resplandecían con ecuaciones en juego\n",
      " misterios entrelazados en cada rincón del vuelo\n",
      " átomos danzaban en un ballet cuántico sin fin\n",
      " y el universo se tejía en un tapiz de quarks y sínfines. era un santuario de ideas donde los estudiantes se unían\n",
      " explorando las leyes que el cosmos tejían\n",
      " las mentes curiosas convergían en su interior\n",
      " como constelaciones que exploran el ancho laboratorio. charlas y debates llenaban el aire con fervor\n",
      " donde teorías flotaban como cometas con ardor\n",
      " el eco de risas y neuronas que chocaban\n",
      " creaban galaxias de pensamiento\n",
      " sin tregua\n",
      " sin pausa. mas ayer llegó el adiós\n",
      " el último capítulo escrito\n",
      " el cubo cerró sus puertas\n",
      " un universo infinito\n",
      " en el reloj de la física\n",
      " un suspiro resonó\n",
      " el tiempo\n",
      " implacable\n",
      " su curso inexorable trazó. oh\n",
      " cubo querido\n",
      " en el espacio-tiempo guardado\n",
      " tu legado perdura\n",
      " en el cosmos has quedado\n",
      " las estrellas que encendiste en nuestras almas brillarán\n",
      " recordando tus enseñanzas\n",
      " siempre perdurarán. en el tejido de la memoria\n",
      " eterno permanecerás\n",
      " como agujero negro de conocimiento\n",
      " no te borrarás\n",
      " aunque las puertas se cierren\n",
      " el espíritu perdura\n",
      " en el vasto universo del saber\n",
      " tu luz siempre perdura.\n"
     ]
    }
   ],
   "source": [
    "for line in max_words.mensaje.split(','):\n",
    "    print(line)"
   ]
  },
  {
   "cell_type": "markdown",
   "id": "61fb9c20",
   "metadata": {},
   "source": [
    "¡El mensaje más largo es un poema!\n",
    "\n",
    "Interesante, parece que en algún momento **Wonder Woman**  compartió un mensaje cuyo contenido es un poema que evoca tristeza y melancolía dedicado a algún lugar llamado 'el cubo', que parece ser algún aula, salón o laboratorio relacionado al aprendizaje, especialmente de física. \n",
    "\n",
    "Me llama la atención la frase *agujero negro de conocimiento*. Normalmente, los agujeros negros consumen y esconden, pero aquí parece simbolizar algo como un centro gravitacional de conocimento, una paradoja que aunque se infiere que 'el cubo' desaparece, su esencia permanece atrayendo memorias y aprendizajes. \n",
    "\n",
    "Verifiquemos que los usuarios son los correctos:"
   ]
  },
  {
   "cell_type": "code",
   "execution_count": 67,
   "id": "32b9d019",
   "metadata": {},
   "outputs": [
    {
     "data": {
      "text/plain": [
       "['<Sistema>',\n",
       " 'Flash',\n",
       " 'Wonder Woman',\n",
       " 'Batman',\n",
       " 'Superman',\n",
       " 'Aquaman',\n",
       " 'Linterna Verde']"
      ]
     },
     "execution_count": 67,
     "metadata": {},
     "output_type": "execute_result"
    }
   ],
   "source": [
    "users = df['usuario'].unique().tolist()\n",
    "users"
   ]
  },
  {
   "cell_type": "markdown",
   "id": "3414c440",
   "metadata": {},
   "source": [
    "* Sin contar al **<Sistema>** en el grupo hay 6 usuarios, todos con los nombres de los superheroes de la liga de la Justicia. \n",
    "\n",
    "* Recordemos que **\\<Sistema\\>** son aquellos mensajes relacionados cambios en el grupo: agregar/expulsar miembros, miembros que salen del grupo, cambios de foto del grupo, etc. "
   ]
  },
  {
   "cell_type": "markdown",
   "id": "e8ccde09",
   "metadata": {},
   "source": [
    "### 4.2 Usuarios más activos\n",
    "\n",
    "Para analizar la actividad de los usuarios consideremos el total de mensajes por miembro:  "
   ]
  },
  {
   "cell_type": "code",
   "execution_count": 68,
   "id": "7c67117f",
   "metadata": {},
   "outputs": [
    {
     "data": {
      "text/html": [
       "<div>\n",
       "<style scoped>\n",
       "    .dataframe tbody tr th:only-of-type {\n",
       "        vertical-align: middle;\n",
       "    }\n",
       "\n",
       "    .dataframe tbody tr th {\n",
       "        vertical-align: top;\n",
       "    }\n",
       "\n",
       "    .dataframe thead th {\n",
       "        text-align: right;\n",
       "    }\n",
       "</style>\n",
       "<table border=\"1\" class=\"dataframe\">\n",
       "  <thead>\n",
       "    <tr style=\"text-align: right;\">\n",
       "      <th></th>\n",
       "      <th>usuario</th>\n",
       "      <th>count</th>\n",
       "    </tr>\n",
       "  </thead>\n",
       "  <tbody>\n",
       "    <tr>\n",
       "      <th>0</th>\n",
       "      <td>Wonder Woman</td>\n",
       "      <td>4140</td>\n",
       "    </tr>\n",
       "    <tr>\n",
       "      <th>1</th>\n",
       "      <td>Flash</td>\n",
       "      <td>1833</td>\n",
       "    </tr>\n",
       "    <tr>\n",
       "      <th>2</th>\n",
       "      <td>Superman</td>\n",
       "      <td>1785</td>\n",
       "    </tr>\n",
       "    <tr>\n",
       "      <th>3</th>\n",
       "      <td>Linterna Verde</td>\n",
       "      <td>1286</td>\n",
       "    </tr>\n",
       "    <tr>\n",
       "      <th>4</th>\n",
       "      <td>Aquaman</td>\n",
       "      <td>1138</td>\n",
       "    </tr>\n",
       "    <tr>\n",
       "      <th>5</th>\n",
       "      <td>Batman</td>\n",
       "      <td>564</td>\n",
       "    </tr>\n",
       "    <tr>\n",
       "      <th>6</th>\n",
       "      <td>&lt;Sistema&gt;</td>\n",
       "      <td>23</td>\n",
       "    </tr>\n",
       "  </tbody>\n",
       "</table>\n",
       "</div>"
      ],
      "text/plain": [
       "          usuario  count\n",
       "0    Wonder Woman   4140\n",
       "1           Flash   1833\n",
       "2        Superman   1785\n",
       "3  Linterna Verde   1286\n",
       "4         Aquaman   1138\n",
       "5          Batman    564\n",
       "6       <Sistema>     23"
      ]
     },
     "execution_count": 68,
     "metadata": {},
     "output_type": "execute_result"
    }
   ],
   "source": [
    "count_mensajes = df['usuario'].value_counts().reset_index()\n",
    "count_mensajes"
   ]
  },
  {
   "cell_type": "markdown",
   "id": "6d4222cc",
   "metadata": {},
   "source": [
    "!Wonder Woman es el miembro más activo del grupo!\n",
    "\n",
    "Para obtener información más reprecentativa, obtengamos la relación entre la cantidad de mensajes y el total de mensajes en el grupo: "
   ]
  },
  {
   "cell_type": "code",
   "execution_count": 72,
   "id": "bdc41df8",
   "metadata": {},
   "outputs": [
    {
     "name": "stdout",
     "output_type": "stream",
     "text": [
      "El total de mensajes en el grupo es:  10769\n"
     ]
    }
   ],
   "source": [
    "total_mensajes = len(df)\n",
    "print('El total de mensajes en el grupo es: ', total_mensajes)"
   ]
  },
  {
   "cell_type": "code",
   "execution_count": 73,
   "id": "00a8620d",
   "metadata": {},
   "outputs": [
    {
     "data": {
      "text/html": [
       "<div>\n",
       "<style scoped>\n",
       "    .dataframe tbody tr th:only-of-type {\n",
       "        vertical-align: middle;\n",
       "    }\n",
       "\n",
       "    .dataframe tbody tr th {\n",
       "        vertical-align: top;\n",
       "    }\n",
       "\n",
       "    .dataframe thead th {\n",
       "        text-align: right;\n",
       "    }\n",
       "</style>\n",
       "<table border=\"1\" class=\"dataframe\">\n",
       "  <thead>\n",
       "    <tr style=\"text-align: right;\">\n",
       "      <th></th>\n",
       "      <th>usuario</th>\n",
       "      <th>count</th>\n",
       "      <th>%</th>\n",
       "    </tr>\n",
       "  </thead>\n",
       "  <tbody>\n",
       "    <tr>\n",
       "      <th>0</th>\n",
       "      <td>Wonder Woman</td>\n",
       "      <td>4140</td>\n",
       "      <td>38.443681</td>\n",
       "    </tr>\n",
       "    <tr>\n",
       "      <th>1</th>\n",
       "      <td>Flash</td>\n",
       "      <td>1833</td>\n",
       "      <td>17.021079</td>\n",
       "    </tr>\n",
       "    <tr>\n",
       "      <th>2</th>\n",
       "      <td>Superman</td>\n",
       "      <td>1785</td>\n",
       "      <td>16.575355</td>\n",
       "    </tr>\n",
       "    <tr>\n",
       "      <th>3</th>\n",
       "      <td>Linterna Verde</td>\n",
       "      <td>1286</td>\n",
       "      <td>11.941684</td>\n",
       "    </tr>\n",
       "    <tr>\n",
       "      <th>4</th>\n",
       "      <td>Aquaman</td>\n",
       "      <td>1138</td>\n",
       "      <td>10.567369</td>\n",
       "    </tr>\n",
       "    <tr>\n",
       "      <th>5</th>\n",
       "      <td>Batman</td>\n",
       "      <td>564</td>\n",
       "      <td>5.237255</td>\n",
       "    </tr>\n",
       "    <tr>\n",
       "      <th>6</th>\n",
       "      <td>&lt;Sistema&gt;</td>\n",
       "      <td>23</td>\n",
       "      <td>0.213576</td>\n",
       "    </tr>\n",
       "  </tbody>\n",
       "</table>\n",
       "</div>"
      ],
      "text/plain": [
       "          usuario  count          %\n",
       "0    Wonder Woman   4140  38.443681\n",
       "1           Flash   1833  17.021079\n",
       "2        Superman   1785  16.575355\n",
       "3  Linterna Verde   1286  11.941684\n",
       "4         Aquaman   1138  10.567369\n",
       "5          Batman    564   5.237255\n",
       "6       <Sistema>     23   0.213576"
      ]
     },
     "execution_count": 73,
     "metadata": {},
     "output_type": "execute_result"
    }
   ],
   "source": [
    "count_mensajes[r'%'] = count_mensajes['count'] * 100 / total_mensajes \n",
    "count_mensajes"
   ]
  },
  {
   "cell_type": "markdown",
   "id": "ca473d48",
   "metadata": {},
   "source": [
    "**Wonder Woman**  fue el usuario que más habló y con mucha diferencia con el resto. Por otro lado,  **Batman** fue el miembro con más silencioso."
   ]
  },
  {
   "cell_type": "markdown",
   "id": "0ef652fb",
   "metadata": {},
   "source": [
    "\n",
    "Un `countplot` del total de mensajes por miembros:"
   ]
  },
  {
   "cell_type": "code",
   "execution_count": 74,
   "id": "e9bbcc9a",
   "metadata": {},
   "outputs": [
    {
     "data": {
      "image/png": "[encoded data removed]",
      "text/plain": [
       "<Figure size 640x480 with 1 Axes>"
      ]
     },
     "metadata": {},
     "output_type": "display_data"
    }
   ],
   "source": [
    "g = sns.countplot(\n",
    "    data=df,\n",
    "    y='usuario',\n",
    "    hue='usuario', \n",
    "    # stat='percent'\n",
    ")\n",
    "g.set(\n",
    "    title='Frecuencia de Mensajes por Usuario'\n",
    ")\n",
    "plt.show()"
   ]
  },
  {
   "cell_type": "markdown",
   "id": "50ce8595",
   "metadata": {},
   "source": [
    "En base a los datos del grupo, podemos decir lo siguiente: \n",
    "\n",
    "* **Wonder Woman** domina claramente la conversación, con **4140 mensajes**, lo que representa un **38.44%** del total.\n",
    "    + Es la más **activa** del grupo con diferencia.\n",
    "\n",
    "* **Flash** y **Superman** le siguen con **1833** (17.02%) y **1785** (16.58%) mensajes, respectivamente.\n",
    "    + Ambos tienen una participación considerable, aunque cada uno representa menos de la mitad de la actividad de Wonder Woman.\n",
    "\n",
    "* Luego vienen **Linterna Verde** y **Aquaman**, con una participación **intermedia**:\n",
    "    + Linterna Verde: 1286 mensajes (11.94%)\n",
    "    + Aquaman: 1138 mensajes (10.57%)\n",
    "\n",
    "* **Batman** es el más reservado entre los superhéroes, con solo **564 mensajes** (5.24%).\n",
    "    + Podría ser considerado el más **callado** del grupo."
   ]
  },
  {
   "cell_type": "markdown",
   "id": "cfcbfd8c",
   "metadata": {},
   "source": [
    "### 4.3 Texto vs Multimedia"
   ]
  },
  {
   "cell_type": "markdown",
   "id": "cebe721e",
   "metadata": {},
   "source": [
    "En el grupo identificaamos dos tipos de mensajes: multimedia y texto. \n",
    "\n",
    "Determinemos la cantidad de mensajes por tipo: "
   ]
  },
  {
   "cell_type": "code",
   "execution_count": 85,
   "id": "3a1863ab",
   "metadata": {},
   "outputs": [
    {
     "data": {
      "text/html": [
       "<div>\n",
       "<style scoped>\n",
       "    .dataframe tbody tr th:only-of-type {\n",
       "        vertical-align: middle;\n",
       "    }\n",
       "\n",
       "    .dataframe tbody tr th {\n",
       "        vertical-align: top;\n",
       "    }\n",
       "\n",
       "    .dataframe thead th {\n",
       "        text-align: right;\n",
       "    }\n",
       "</style>\n",
       "<table border=\"1\" class=\"dataframe\">\n",
       "  <thead>\n",
       "    <tr style=\"text-align: right;\">\n",
       "      <th></th>\n",
       "      <th>tipo</th>\n",
       "      <th>count</th>\n",
       "      <th>%</th>\n",
       "    </tr>\n",
       "  </thead>\n",
       "  <tbody>\n",
       "    <tr>\n",
       "      <th>0</th>\n",
       "      <td>multimedia</td>\n",
       "      <td>1446</td>\n",
       "      <td>13.427431</td>\n",
       "    </tr>\n",
       "    <tr>\n",
       "      <th>1</th>\n",
       "      <td>texto</td>\n",
       "      <td>9323</td>\n",
       "      <td>86.572569</td>\n",
       "    </tr>\n",
       "  </tbody>\n",
       "</table>\n",
       "</div>"
      ],
      "text/plain": [
       "         tipo  count          %\n",
       "0  multimedia   1446  13.427431\n",
       "1       texto   9323  86.572569"
      ]
     },
     "execution_count": 85,
     "metadata": {},
     "output_type": "execute_result"
    }
   ],
   "source": [
    "count_tipos = df.groupby('tipo').size().reset_index()\n",
    "count_tipos.columns = ['tipo', 'count']\n",
    "count_tipos[r'%'] = count_tipos['count']*100/total_mensajes\n",
    "count_tipos"
   ]
  },
  {
   "cell_type": "markdown",
   "id": "5611dd95",
   "metadata": {},
   "source": [
    "La cantidad de mensajes de tipo multimedia es muy baja comparada con el total de mensajes de texto, reprecenta el 13.5% del total de mensajes en el grupo.\n",
    "\n",
    "Ahora, observemos la distribución del tipo de mensaje por usuario: "
   ]
  },
  {
   "cell_type": "code",
   "execution_count": 86,
   "id": "872aa7ba",
   "metadata": {},
   "outputs": [],
   "source": [
    "tabla = (\n",
    "    df.groupby(['usuario', 'tipo'])['tipo']\n",
    "      .agg('count')\n",
    "      .unstack(fill_value=0)\n",
    "      .reset_index()\n",
    ")"
   ]
  },
  {
   "cell_type": "markdown",
   "id": "ef84e22b",
   "metadata": {},
   "source": [
    "Tenemos índices multindex que no son muy comodos para trabajar. Podemos eliminarlos como sigue: "
   ]
  },
  {
   "cell_type": "code",
   "execution_count": 87,
   "id": "f39b6629",
   "metadata": {},
   "outputs": [
    {
     "data": {
      "text/html": [
       "<div>\n",
       "<style scoped>\n",
       "    .dataframe tbody tr th:only-of-type {\n",
       "        vertical-align: middle;\n",
       "    }\n",
       "\n",
       "    .dataframe tbody tr th {\n",
       "        vertical-align: top;\n",
       "    }\n",
       "\n",
       "    .dataframe thead th {\n",
       "        text-align: right;\n",
       "    }\n",
       "</style>\n",
       "<table border=\"1\" class=\"dataframe\">\n",
       "  <thead>\n",
       "    <tr style=\"text-align: right;\">\n",
       "      <th></th>\n",
       "      <th>usuario</th>\n",
       "      <th>multimedia</th>\n",
       "      <th>texto</th>\n",
       "    </tr>\n",
       "  </thead>\n",
       "  <tbody>\n",
       "    <tr>\n",
       "      <th>0</th>\n",
       "      <td>&lt;Sistema&gt;</td>\n",
       "      <td>0</td>\n",
       "      <td>23</td>\n",
       "    </tr>\n",
       "    <tr>\n",
       "      <th>1</th>\n",
       "      <td>Aquaman</td>\n",
       "      <td>298</td>\n",
       "      <td>840</td>\n",
       "    </tr>\n",
       "    <tr>\n",
       "      <th>2</th>\n",
       "      <td>Batman</td>\n",
       "      <td>26</td>\n",
       "      <td>538</td>\n",
       "    </tr>\n",
       "    <tr>\n",
       "      <th>3</th>\n",
       "      <td>Flash</td>\n",
       "      <td>229</td>\n",
       "      <td>1604</td>\n",
       "    </tr>\n",
       "    <tr>\n",
       "      <th>4</th>\n",
       "      <td>Linterna Verde</td>\n",
       "      <td>120</td>\n",
       "      <td>1166</td>\n",
       "    </tr>\n",
       "    <tr>\n",
       "      <th>5</th>\n",
       "      <td>Superman</td>\n",
       "      <td>339</td>\n",
       "      <td>1446</td>\n",
       "    </tr>\n",
       "    <tr>\n",
       "      <th>6</th>\n",
       "      <td>Wonder Woman</td>\n",
       "      <td>434</td>\n",
       "      <td>3706</td>\n",
       "    </tr>\n",
       "  </tbody>\n",
       "</table>\n",
       "</div>"
      ],
      "text/plain": [
       "          usuario  multimedia  texto\n",
       "0       <Sistema>           0     23\n",
       "1         Aquaman         298    840\n",
       "2          Batman          26    538\n",
       "3           Flash         229   1604\n",
       "4  Linterna Verde         120   1166\n",
       "5        Superman         339   1446\n",
       "6    Wonder Woman         434   3706"
      ]
     },
     "execution_count": 87,
     "metadata": {},
     "output_type": "execute_result"
    }
   ],
   "source": [
    "tabla.columns.name = None\n",
    "tabla"
   ]
  },
  {
   "cell_type": "code",
   "execution_count": 88,
   "id": "5aed2440",
   "metadata": {},
   "outputs": [
    {
     "data": {
      "text/plain": [
       "Index(['usuario', 'multimedia', 'texto'], dtype='object')"
      ]
     },
     "execution_count": 88,
     "metadata": {},
     "output_type": "execute_result"
    }
   ],
   "source": [
    "tabla.columns"
   ]
  },
  {
   "cell_type": "markdown",
   "id": "bbd8c9f3",
   "metadata": {},
   "source": [
    "Para reprecentar la información como barras, es necesario convertir a *long-format*. Usamos `pd.melt` como sigue: "
   ]
  },
  {
   "cell_type": "code",
   "execution_count": 92,
   "id": "fd2d7bfd",
   "metadata": {},
   "outputs": [
    {
     "data": {
      "text/html": [
       "<div>\n",
       "<style scoped>\n",
       "    .dataframe tbody tr th:only-of-type {\n",
       "        vertical-align: middle;\n",
       "    }\n",
       "\n",
       "    .dataframe tbody tr th {\n",
       "        vertical-align: top;\n",
       "    }\n",
       "\n",
       "    .dataframe thead th {\n",
       "        text-align: right;\n",
       "    }\n",
       "</style>\n",
       "<table border=\"1\" class=\"dataframe\">\n",
       "  <thead>\n",
       "    <tr style=\"text-align: right;\">\n",
       "      <th></th>\n",
       "      <th>usuario</th>\n",
       "      <th>tipo</th>\n",
       "      <th>cantidad</th>\n",
       "    </tr>\n",
       "  </thead>\n",
       "  <tbody>\n",
       "    <tr>\n",
       "      <th>0</th>\n",
       "      <td>&lt;Sistema&gt;</td>\n",
       "      <td>multimedia</td>\n",
       "      <td>0</td>\n",
       "    </tr>\n",
       "    <tr>\n",
       "      <th>1</th>\n",
       "      <td>Aquaman</td>\n",
       "      <td>multimedia</td>\n",
       "      <td>298</td>\n",
       "    </tr>\n",
       "    <tr>\n",
       "      <th>2</th>\n",
       "      <td>Batman</td>\n",
       "      <td>multimedia</td>\n",
       "      <td>26</td>\n",
       "    </tr>\n",
       "    <tr>\n",
       "      <th>3</th>\n",
       "      <td>Flash</td>\n",
       "      <td>multimedia</td>\n",
       "      <td>229</td>\n",
       "    </tr>\n",
       "    <tr>\n",
       "      <th>4</th>\n",
       "      <td>Linterna Verde</td>\n",
       "      <td>multimedia</td>\n",
       "      <td>120</td>\n",
       "    </tr>\n",
       "    <tr>\n",
       "      <th>5</th>\n",
       "      <td>Superman</td>\n",
       "      <td>multimedia</td>\n",
       "      <td>339</td>\n",
       "    </tr>\n",
       "    <tr>\n",
       "      <th>6</th>\n",
       "      <td>Wonder Woman</td>\n",
       "      <td>multimedia</td>\n",
       "      <td>434</td>\n",
       "    </tr>\n",
       "    <tr>\n",
       "      <th>7</th>\n",
       "      <td>&lt;Sistema&gt;</td>\n",
       "      <td>texto</td>\n",
       "      <td>23</td>\n",
       "    </tr>\n",
       "    <tr>\n",
       "      <th>8</th>\n",
       "      <td>Aquaman</td>\n",
       "      <td>texto</td>\n",
       "      <td>840</td>\n",
       "    </tr>\n",
       "    <tr>\n",
       "      <th>9</th>\n",
       "      <td>Batman</td>\n",
       "      <td>texto</td>\n",
       "      <td>538</td>\n",
       "    </tr>\n",
       "    <tr>\n",
       "      <th>10</th>\n",
       "      <td>Flash</td>\n",
       "      <td>texto</td>\n",
       "      <td>1604</td>\n",
       "    </tr>\n",
       "    <tr>\n",
       "      <th>11</th>\n",
       "      <td>Linterna Verde</td>\n",
       "      <td>texto</td>\n",
       "      <td>1166</td>\n",
       "    </tr>\n",
       "    <tr>\n",
       "      <th>12</th>\n",
       "      <td>Superman</td>\n",
       "      <td>texto</td>\n",
       "      <td>1446</td>\n",
       "    </tr>\n",
       "    <tr>\n",
       "      <th>13</th>\n",
       "      <td>Wonder Woman</td>\n",
       "      <td>texto</td>\n",
       "      <td>3706</td>\n",
       "    </tr>\n",
       "  </tbody>\n",
       "</table>\n",
       "</div>"
      ],
      "text/plain": [
       "           usuario        tipo  cantidad\n",
       "0        <Sistema>  multimedia         0\n",
       "1          Aquaman  multimedia       298\n",
       "2           Batman  multimedia        26\n",
       "3            Flash  multimedia       229\n",
       "4   Linterna Verde  multimedia       120\n",
       "5         Superman  multimedia       339\n",
       "6     Wonder Woman  multimedia       434\n",
       "7        <Sistema>       texto        23\n",
       "8          Aquaman       texto       840\n",
       "9           Batman       texto       538\n",
       "10           Flash       texto      1604\n",
       "11  Linterna Verde       texto      1166\n",
       "12        Superman       texto      1446\n",
       "13    Wonder Woman       texto      3706"
      ]
     },
     "execution_count": 92,
     "metadata": {},
     "output_type": "execute_result"
    }
   ],
   "source": [
    "long_tabla = tabla.melt(id_vars=\"usuario\", \n",
    "                  value_vars=[\"multimedia\", \"texto\"], \n",
    "                  var_name=\"tipo\", value_name=\"cantidad\")\n",
    "long_tabla"
   ]
  },
  {
   "cell_type": "markdown",
   "id": "42e386aa",
   "metadata": {},
   "source": [
    "Con lo anterior, ya podemos graficar los datos y analizar la distribución de los tipos de mensaje por usuario: "
   ]
  },
  {
   "cell_type": "code",
   "execution_count": 93,
   "id": "0a4faace",
   "metadata": {},
   "outputs": [
    {
     "data": {
      "image/png": "[encoded data removed]",
      "text/plain": [
       "<Figure size 640x480 with 1 Axes>"
      ]
     },
     "metadata": {},
     "output_type": "display_data"
    }
   ],
   "source": [
    "sns.barplot(\n",
    "    data=long_tabla,\n",
    "    x=\"usuario\",\n",
    "    y=\"cantidad\", \n",
    "    hue=\"tipo\"\n",
    ")\n",
    "plt.xticks(rotation=45)\n",
    "plt.title(\"Comparación Multimedia vs Texto por Usuario\")\n",
    "plt.show()\n"
   ]
  },
  {
   "cell_type": "markdown",
   "id": "a87bb144",
   "metadata": {},
   "source": [
    "Nuevamente Wonder Woman ha sido el usuario con más mensajes multimedia, pero no con mucha diferencia. Vemos que Aquaman y Superman compartieron una cantidad casí igual a Wonder Woman. De igual forma, batman sigue siendo el miembro más aburrido del grupo, apenas mandó elementos multimedia. "
   ]
  },
  {
   "cell_type": "markdown",
   "id": "11f9107e",
   "metadata": {},
   "source": [
    "### 4.3 Ditribución temporal"
   ]
  },
  {
   "cell_type": "markdown",
   "id": "cd393166",
   "metadata": {},
   "source": [
    "Primero, identifiquemos la fecha de inicio y la fecha final de los mensajes: "
   ]
  },
  {
   "cell_type": "code",
   "execution_count": 94,
   "id": "6f700fab",
   "metadata": {},
   "outputs": [],
   "source": [
    "fecha_inicio = df['datetime'].min()\n",
    "fecha_final = df['datetime'].max()"
   ]
  },
  {
   "cell_type": "code",
   "execution_count": 95,
   "id": "4dda8ab7",
   "metadata": {},
   "outputs": [
    {
     "name": "stdout",
     "output_type": "stream",
     "text": [
      "El chat posee mensajes desde 2023-04-10 11:39:00 hasta 2024-10-26 18:47:00\n"
     ]
    }
   ],
   "source": [
    "print(f'El chat posee mensajes desde {fecha_inicio} hasta {fecha_final}')"
   ]
  },
  {
   "cell_type": "markdown",
   "id": "5d6066d6",
   "metadata": {},
   "source": [
    "Para analizar la distribución temporal de los mensajes, es necesario extraer otras variables de la columna `datetime`, en particular la hora del mensaje y el día de la semana: "
   ]
  },
  {
   "cell_type": "code",
   "execution_count": 96,
   "id": "6235c9f9",
   "metadata": {},
   "outputs": [],
   "source": [
    "df['hora'] = df['datetime'].dt.hour\n",
    "df['dia'] = df['datetime'].dt.day_name(locale='es_ES')"
   ]
  },
  {
   "cell_type": "code",
   "execution_count": 97,
   "id": "88b8c151",
   "metadata": {},
   "outputs": [
    {
     "data": {
      "text/html": [
       "<div>\n",
       "<style scoped>\n",
       "    .dataframe tbody tr th:only-of-type {\n",
       "        vertical-align: middle;\n",
       "    }\n",
       "\n",
       "    .dataframe tbody tr th {\n",
       "        vertical-align: top;\n",
       "    }\n",
       "\n",
       "    .dataframe thead th {\n",
       "        text-align: right;\n",
       "    }\n",
       "</style>\n",
       "<table border=\"1\" class=\"dataframe\">\n",
       "  <thead>\n",
       "    <tr style=\"text-align: right;\">\n",
       "      <th></th>\n",
       "      <th>datetime</th>\n",
       "      <th>usuario</th>\n",
       "      <th>mensaje</th>\n",
       "      <th>tipo</th>\n",
       "      <th>num_palabras</th>\n",
       "      <th>num_chars</th>\n",
       "      <th>hora</th>\n",
       "      <th>dia</th>\n",
       "    </tr>\n",
       "  </thead>\n",
       "  <tbody>\n",
       "    <tr>\n",
       "      <th>0</th>\n",
       "      <td>2023-04-10 11:39:00</td>\n",
       "      <td>&lt;Sistema&gt;</td>\n",
       "      <td>los mensajes y las llamadas están cifrados de ...</td>\n",
       "      <td>texto</td>\n",
       "      <td>25</td>\n",
       "      <td>162</td>\n",
       "      <td>11</td>\n",
       "      <td>Lunes</td>\n",
       "    </tr>\n",
       "    <tr>\n",
       "      <th>1</th>\n",
       "      <td>2023-04-10 11:39:00</td>\n",
       "      <td>&lt;Sistema&gt;</td>\n",
       "      <td>‎wonder woman creó el grupo \"grupo\".</td>\n",
       "      <td>texto</td>\n",
       "      <td>6</td>\n",
       "      <td>36</td>\n",
       "      <td>11</td>\n",
       "      <td>Lunes</td>\n",
       "    </tr>\n",
       "    <tr>\n",
       "      <th>2</th>\n",
       "      <td>2023-04-10 11:39:00</td>\n",
       "      <td>&lt;Sistema&gt;</td>\n",
       "      <td>‎wonder woman te añadió</td>\n",
       "      <td>texto</td>\n",
       "      <td>4</td>\n",
       "      <td>23</td>\n",
       "      <td>11</td>\n",
       "      <td>Lunes</td>\n",
       "    </tr>\n",
       "    <tr>\n",
       "      <th>3</th>\n",
       "      <td>2023-04-10 11:40:00</td>\n",
       "      <td>Flash</td>\n",
       "      <td>✋✋✋</td>\n",
       "      <td>texto</td>\n",
       "      <td>1</td>\n",
       "      <td>3</td>\n",
       "      <td>11</td>\n",
       "      <td>Lunes</td>\n",
       "    </tr>\n",
       "    <tr>\n",
       "      <th>4</th>\n",
       "      <td>2023-04-10 11:41:00</td>\n",
       "      <td>Flash</td>\n",
       "      <td>rola las fotos wonder woman</td>\n",
       "      <td>texto</td>\n",
       "      <td>5</td>\n",
       "      <td>27</td>\n",
       "      <td>11</td>\n",
       "      <td>Lunes</td>\n",
       "    </tr>\n",
       "  </tbody>\n",
       "</table>\n",
       "</div>"
      ],
      "text/plain": [
       "             datetime    usuario  \\\n",
       "0 2023-04-10 11:39:00  <Sistema>   \n",
       "1 2023-04-10 11:39:00  <Sistema>   \n",
       "2 2023-04-10 11:39:00  <Sistema>   \n",
       "3 2023-04-10 11:40:00      Flash   \n",
       "4 2023-04-10 11:41:00      Flash   \n",
       "\n",
       "                                             mensaje   tipo  num_palabras  \\\n",
       "0  los mensajes y las llamadas están cifrados de ...  texto            25   \n",
       "1               ‎wonder woman creó el grupo \"grupo\".  texto             6   \n",
       "2                            ‎wonder woman te añadió  texto             4   \n",
       "3                                                ✋✋✋  texto             1   \n",
       "4                        rola las fotos wonder woman  texto             5   \n",
       "\n",
       "   num_chars  hora    dia  \n",
       "0        162    11  Lunes  \n",
       "1         36    11  Lunes  \n",
       "2         23    11  Lunes  \n",
       "3          3    11  Lunes  \n",
       "4         27    11  Lunes  "
      ]
     },
     "execution_count": 97,
     "metadata": {},
     "output_type": "execute_result"
    }
   ],
   "source": [
    "df.head()"
   ]
  },
  {
   "cell_type": "markdown",
   "id": "c57a90ea",
   "metadata": {},
   "source": [
    "Los mensajes por hora del día: "
   ]
  },
  {
   "cell_type": "code",
   "execution_count": 102,
   "id": "96cd8b1a",
   "metadata": {},
   "outputs": [],
   "source": [
    "hourly_counts = df.groupby('hora').size().reset_index()\n",
    "hourly_counts.columns = ['hora', 'count']"
   ]
  },
  {
   "cell_type": "code",
   "execution_count": 108,
   "id": "1a4e746e",
   "metadata": {},
   "outputs": [
    {
     "data": {
      "text/html": [
       "<div>\n",
       "<style scoped>\n",
       "    .dataframe tbody tr th:only-of-type {\n",
       "        vertical-align: middle;\n",
       "    }\n",
       "\n",
       "    .dataframe tbody tr th {\n",
       "        vertical-align: top;\n",
       "    }\n",
       "\n",
       "    .dataframe thead th {\n",
       "        text-align: right;\n",
       "    }\n",
       "</style>\n",
       "<table border=\"1\" class=\"dataframe\">\n",
       "  <thead>\n",
       "    <tr style=\"text-align: right;\">\n",
       "      <th></th>\n",
       "      <th>hora</th>\n",
       "      <th>count</th>\n",
       "    </tr>\n",
       "  </thead>\n",
       "  <tbody>\n",
       "    <tr>\n",
       "      <th>0</th>\n",
       "      <td>0</td>\n",
       "      <td>59</td>\n",
       "    </tr>\n",
       "    <tr>\n",
       "      <th>1</th>\n",
       "      <td>1</td>\n",
       "      <td>27</td>\n",
       "    </tr>\n",
       "    <tr>\n",
       "      <th>2</th>\n",
       "      <td>2</td>\n",
       "      <td>4</td>\n",
       "    </tr>\n",
       "    <tr>\n",
       "      <th>3</th>\n",
       "      <td>3</td>\n",
       "      <td>5</td>\n",
       "    </tr>\n",
       "    <tr>\n",
       "      <th>4</th>\n",
       "      <td>4</td>\n",
       "      <td>3</td>\n",
       "    </tr>\n",
       "    <tr>\n",
       "      <th>5</th>\n",
       "      <td>5</td>\n",
       "      <td>22</td>\n",
       "    </tr>\n",
       "    <tr>\n",
       "      <th>6</th>\n",
       "      <td>6</td>\n",
       "      <td>25</td>\n",
       "    </tr>\n",
       "    <tr>\n",
       "      <th>7</th>\n",
       "      <td>7</td>\n",
       "      <td>162</td>\n",
       "    </tr>\n",
       "    <tr>\n",
       "      <th>8</th>\n",
       "      <td>8</td>\n",
       "      <td>392</td>\n",
       "    </tr>\n",
       "    <tr>\n",
       "      <th>9</th>\n",
       "      <td>9</td>\n",
       "      <td>512</td>\n",
       "    </tr>\n",
       "    <tr>\n",
       "      <th>10</th>\n",
       "      <td>10</td>\n",
       "      <td>1195</td>\n",
       "    </tr>\n",
       "    <tr>\n",
       "      <th>11</th>\n",
       "      <td>11</td>\n",
       "      <td>879</td>\n",
       "    </tr>\n",
       "    <tr>\n",
       "      <th>12</th>\n",
       "      <td>12</td>\n",
       "      <td>846</td>\n",
       "    </tr>\n",
       "    <tr>\n",
       "      <th>13</th>\n",
       "      <td>13</td>\n",
       "      <td>769</td>\n",
       "    </tr>\n",
       "    <tr>\n",
       "      <th>14</th>\n",
       "      <td>14</td>\n",
       "      <td>660</td>\n",
       "    </tr>\n",
       "    <tr>\n",
       "      <th>15</th>\n",
       "      <td>15</td>\n",
       "      <td>561</td>\n",
       "    </tr>\n",
       "    <tr>\n",
       "      <th>16</th>\n",
       "      <td>16</td>\n",
       "      <td>689</td>\n",
       "    </tr>\n",
       "    <tr>\n",
       "      <th>17</th>\n",
       "      <td>17</td>\n",
       "      <td>777</td>\n",
       "    </tr>\n",
       "    <tr>\n",
       "      <th>18</th>\n",
       "      <td>18</td>\n",
       "      <td>639</td>\n",
       "    </tr>\n",
       "    <tr>\n",
       "      <th>19</th>\n",
       "      <td>19</td>\n",
       "      <td>550</td>\n",
       "    </tr>\n",
       "    <tr>\n",
       "      <th>20</th>\n",
       "      <td>20</td>\n",
       "      <td>704</td>\n",
       "    </tr>\n",
       "    <tr>\n",
       "      <th>21</th>\n",
       "      <td>21</td>\n",
       "      <td>765</td>\n",
       "    </tr>\n",
       "    <tr>\n",
       "      <th>22</th>\n",
       "      <td>22</td>\n",
       "      <td>410</td>\n",
       "    </tr>\n",
       "    <tr>\n",
       "      <th>23</th>\n",
       "      <td>23</td>\n",
       "      <td>114</td>\n",
       "    </tr>\n",
       "  </tbody>\n",
       "</table>\n",
       "</div>"
      ],
      "text/plain": [
       "    hora  count\n",
       "0      0     59\n",
       "1      1     27\n",
       "2      2      4\n",
       "3      3      5\n",
       "4      4      3\n",
       "5      5     22\n",
       "6      6     25\n",
       "7      7    162\n",
       "8      8    392\n",
       "9      9    512\n",
       "10    10   1195\n",
       "11    11    879\n",
       "12    12    846\n",
       "13    13    769\n",
       "14    14    660\n",
       "15    15    561\n",
       "16    16    689\n",
       "17    17    777\n",
       "18    18    639\n",
       "19    19    550\n",
       "20    20    704\n",
       "21    21    765\n",
       "22    22    410\n",
       "23    23    114"
      ]
     },
     "execution_count": 108,
     "metadata": {},
     "output_type": "execute_result"
    }
   ],
   "source": [
    "hourly_counts"
   ]
  },
  {
   "cell_type": "markdown",
   "id": "2383a291",
   "metadata": {},
   "source": [
    "Observemos la distribución por hora mediante un gráfico de barras:"
   ]
  },
  {
   "cell_type": "code",
   "execution_count": 107,
   "id": "61f2362c",
   "metadata": {},
   "outputs": [
    {
     "data": {
      "image/png": "[encoded data removed]",
      "text/plain": [
       "<Figure size 640x480 with 1 Axes>"
      ]
     },
     "metadata": {},
     "output_type": "display_data"
    }
   ],
   "source": [
    "sns.barplot(\n",
    "    data=hourly_counts,\n",
    "    x='hora',\n",
    "    y='count',\n",
    "    hue='hora'\n",
    "    )\n",
    "plt.xlabel(\"Hora del día\")\n",
    "plt.ylabel(\"Número de mensajes\")\n",
    "plt.title(\"Distribución de mensajes por hora del día\")\n",
    "plt.show()"
   ]
  },
  {
   "cell_type": "markdown",
   "id": "0bb7ad06",
   "metadata": {},
   "source": [
    "La mayor cantidad de mensajes se registra a las 10 de la mañana. Sin embargo, entre las 10:00 y las 21:00 horas, la cantidad de mensajes por hora se mantiene estable, lo que sugiere una distribución casi uniforme en ese rango de tiempo.\n",
    "\n",
    "Ahora, contemos los mensajes por día de la semana: "
   ]
  },
  {
   "cell_type": "code",
   "execution_count": 140,
   "id": "e93c78d3",
   "metadata": {},
   "outputs": [],
   "source": [
    "weekday_counts = df['dia'].value_counts()"
   ]
  },
  {
   "cell_type": "markdown",
   "id": "5b3cde77",
   "metadata": {},
   "source": [
    "Ordenamos naturalmente los días de la semana: "
   ]
  },
  {
   "cell_type": "code",
   "execution_count": 141,
   "id": "dcaff401",
   "metadata": {},
   "outputs": [],
   "source": [
    "orden = [\"Lunes\",\"Martes\",\"Miércoles\",\"Jueves\",\"Viernes\",\"Sábado\",\"Domingo\"]\n",
    "weekday_counts = weekday_counts.reindex(orden)"
   ]
  },
  {
   "cell_type": "code",
   "execution_count": 142,
   "id": "46b87118",
   "metadata": {},
   "outputs": [],
   "source": [
    "weekday_counts = weekday_counts.reset_index()\n",
    "weekday_counts.columns = ['dia', 'count']"
   ]
  },
  {
   "cell_type": "code",
   "execution_count": 144,
   "id": "101b367a",
   "metadata": {},
   "outputs": [
    {
     "data": {
      "text/plain": [
       "Index(['dia', 'count'], dtype='object')"
      ]
     },
     "execution_count": 144,
     "metadata": {},
     "output_type": "execute_result"
    }
   ],
   "source": [
    "weekday_counts.columns"
   ]
  },
  {
   "cell_type": "code",
   "execution_count": 145,
   "id": "94bc047f",
   "metadata": {},
   "outputs": [
    {
     "data": {
      "image/png": "[encoded data removed]",
      "text/plain": [
       "<Figure size 1000x500 with 1 Axes>"
      ]
     },
     "metadata": {},
     "output_type": "display_data"
    }
   ],
   "source": [
    "plt.figure(figsize=(10,5))\n",
    "sns.barplot(\n",
    "    data=weekday_counts,\n",
    "    x='dia', \n",
    "    y='count',  \n",
    "    hue='dia', \n",
    ")\n",
    "plt.xlabel(\"Día de la semana\")\n",
    "plt.ylabel(\"Número de mensajes\")\n",
    "plt.title(\"Distribución de mensajes por día de la semana\")\n",
    "plt.show()"
   ]
  },
  {
   "cell_type": "markdown",
   "id": "5659478f",
   "metadata": {},
   "source": [
    "La distribución es bastante uniforme, con 1500-1700 mensajes entre semana y aproximadamente 1000 mensajes en total los fines de semana. \n",
    "\n",
    "Nótese que el pico se presenta el día veirnes. Con poco más de 2000 mensajes en total. "
   ]
  },
  {
   "cell_type": "markdown",
   "id": "1bc82f78",
   "metadata": {},
   "source": [
    "### 4.4 Nube de palabras\n",
    "\n",
    "Una nube de palabras nos permitirá identificar los patrones convesación en el grupo a partir de las palabrás más usadas.\n",
    "\n",
    "Primero, observemos el wordcloud de todos los mensajes:"
   ]
  },
  {
   "cell_type": "code",
   "execution_count": 146,
   "id": "40da6ec2",
   "metadata": {},
   "outputs": [
    {
     "data": {
      "image/png": "[encoded data removed]",
      "text/plain": [
       "<Figure size 640x480 with 1 Axes>"
      ]
     },
     "metadata": {},
     "output_type": "display_data"
    }
   ],
   "source": [
    "texto = \" \".join(df[\"mensaje\"].dropna())\n",
    "\n",
    "wc = WordCloud(\n",
    "    width=800, height=400,\n",
    "    background_color=\"white\",\n",
    "    collocations=False\n",
    ").generate(texto)\n",
    "\n",
    "plt.imshow(wc, interpolation=\"bilinear\")\n",
    "plt.axis(\"off\")\n",
    "plt.show()\n"
   ]
  },
  {
   "cell_type": "markdown",
   "id": "ee37f0a6",
   "metadata": {},
   "source": [
    "La palabra `multimedia` y `omitido` se repite mucho, asdemás de las *stopwords* básicas del idioma español (*la*, *uno*, *yo*, *como*, ect). \n",
    "\n",
    "Algo curioso es que **batman** se menciona mucho, pero es el integrante del grupo con menos actividad en el grupo: ¿será porque es el que menos contesta mensajes?\n",
    "\n",
    "\n",
    "Para desifrar los patrones de conversación quitemos las *stop-words* y las palabras que no reprecentan información: "
   ]
  },
  {
   "cell_type": "code",
   "execution_count": 147,
   "id": "e81777d1",
   "metadata": {},
   "outputs": [],
   "source": [
    "from wordcloud import STOPWORDS"
   ]
  },
  {
   "cell_type": "markdown",
   "id": "f34a9e9b",
   "metadata": {},
   "source": [
    "**Nota**: No está funcionando el modelo `es_core_news_md`, por lo que se agregarán las stopwords más comunes a mano. "
   ]
  },
  {
   "cell_type": "code",
   "execution_count": null,
   "id": "278bef12",
   "metadata": {},
   "outputs": [],
   "source": [
    "# !uv pip install https://github.com/explosion/spacy-models/releases/download/es_core_news_md-3.7.0/es_core_news_md-3.7.0-py3-none-any.whl"
   ]
  },
  {
   "cell_type": "code",
   "execution_count": 164,
   "id": "f53c1f3d",
   "metadata": {},
   "outputs": [],
   "source": [
    "stopwords_spacy = set(STOPWORDS)\n",
    "\n",
    "STOPWORDS_ES = {\n",
    "    \"de\",\"la\",\"que\",\"el\",\"en\",\"y\",\"a\",\"los\",\"se\",\"del\",\"las\",\"por\",\"un\",\"para\",\"con\",\n",
    "    \"no\",\"una\",\"su\",\"al\",\"es\",\"lo\",\"como\",\"más\",\"mas\",\"pero\",\"sus\",\"le\",\"ya\",\"o\",\"fue\",\"ha\",\n",
    "    \"si\",\"sí\",\"cuando\",\"muy\",\"sin\",\"sobre\",\"también\",\"tambien\",\"me\",\"hasta\",\"hay\",\"donde\",\n",
    "    \"quien\",\"quienes\",\"desde\",\"todo\",\"todos\",\"nos\",\"durante\",\"uno\",\"les\",\"ni\",\"contra\",\"otros\",\n",
    "    \"cual\",\"cuál\",\"era\",\"poco\",\"ella\",\"él\",\"ellos\",\"ellas\",\"este\",\"esta\",\"estos\",\"estas\",\"esto\",\n",
    "    \"aquí\",\"aqui\",\"alli\",\"allí\",\"mismo\",\"cada\",\"otro\",\"otra\",\"tan\",\"tanto\",\"tanta\",\"qué\",\"que\",\n",
    "    \"porque\",\"porqué\",\"porq\",\"asi\",\"aun\",\"aún\",\"todavia\",\"todavía\",\"entonces\",\"aunque\",\"mientras\",\"hola\",\"buenos\",\n",
    "    \"buenas\",\"buen\",\"día\",\"dia\",\"tarde\",\"noche\",\"mi\",\"mis\",\"mio\",\"mía\",\"tu\",\"tú\",\"te\",\"ti\",\n",
    "    \"nosotros\",\"vosotros\",\"usted\",\"ustedes\",\"denada\",\"de_nada\",\"pues\",\"lol\",\"lmao\",\"okey\",\"pues\", \n",
    "    \"omitido\", \"multimedia\", \"yo\", \"https\",  \"batman\", \"wonder\", \"woman\", \"superman\", \"aquaman\", \"linterna\", \"verde\", \n",
    "    \"flash\", \"va\", \"esa\", \"ese\", \"puede\", \"oigan\", \"ser\", \"bueno\", \"gente\", \"hoy\", \"eso\", \"esta\", \n",
    "    \"opcion\", \"está\", \"dijo\", \"estoy\", \"opción\", \"quien\", \"dice\", \"son\", \"tienen\", \"ahi\", \"ahí\", \"así\", \n",
    "    \"dio\", \"ver\", \"ve\", \"vas\", \"nomás\", \"nomas\", \"quién\", \"o\", \"mensaje\", \"algo\"\n",
    "}"
   ]
  },
  {
   "cell_type": "code",
   "execution_count": 165,
   "id": "56c67794",
   "metadata": {},
   "outputs": [],
   "source": [
    "my_stopwords = stopwords_spacy | STOPWORDS_ES"
   ]
  },
  {
   "cell_type": "code",
   "execution_count": 166,
   "id": "156c3314",
   "metadata": {},
   "outputs": [
    {
     "data": {
      "image/png": "[encoded data removed]",
      "text/plain": [
       "<Figure size 640x480 with 1 Axes>"
      ]
     },
     "metadata": {},
     "output_type": "display_data"
    }
   ],
   "source": [
    "wc = WordCloud(\n",
    "    width=800, height=400,\n",
    "    background_color=\"white\",\n",
    "    stopwords=my_stopwords,\n",
    "    collocations=False\n",
    ").generate(texto)\n",
    "\n",
    "plt.imshow(wc, interpolation=\"bilinear\")\n",
    "plt.axis(\"off\")\n",
    "plt.show()\n"
   ]
  },
  {
   "cell_type": "markdown",
   "id": "b229626f",
   "metadata": {},
   "source": [
    "Vemos que la palabra más mencionada es \"**wey**\", lo que refleja el tono informal y cercano entre los particpantes. Otros términos que destacan son las relacionadas a **interacciones de risa** como *\"jaja\"* *\"xd\"*, así como referencias a redes sociales \"tiktok\" e \"instagram\", que probablemente generan las interacciones anteriores. Por otro lado, aparecen palabras asociadas a la **actividad académica** como *\"tarea\"*, *\"examen\"*, *\"huelga\"*, *\"problema\"*, lo que confirma que gran parte de los mensajes están relacionados a temas escolares. "
   ]
  },
  {
   "cell_type": "markdown",
   "id": "3772195c",
   "metadata": {},
   "source": [
    "### 4.5 ¿Quién escribe los mensajes más largos?"
   ]
  },
  {
   "cell_type": "markdown",
   "id": "63684f38",
   "metadata": {},
   "source": [
    "Contamos con las columnas `num_palabras`, `num_chars`. A partir de estas podemos analziar el comportameinto de los participantes del grupo.\n",
    "\n",
    "Obtenemos la tabla para analizar estas variables: "
   ]
  },
  {
   "cell_type": "code",
   "execution_count": 167,
   "id": "be343e97",
   "metadata": {},
   "outputs": [
    {
     "data": {
      "text/html": [
       "<div>\n",
       "<style scoped>\n",
       "    .dataframe tbody tr th:only-of-type {\n",
       "        vertical-align: middle;\n",
       "    }\n",
       "\n",
       "    .dataframe tbody tr th {\n",
       "        vertical-align: top;\n",
       "    }\n",
       "\n",
       "    .dataframe thead tr th {\n",
       "        text-align: left;\n",
       "    }\n",
       "\n",
       "    .dataframe thead tr:last-of-type th {\n",
       "        text-align: right;\n",
       "    }\n",
       "</style>\n",
       "<table border=\"1\" class=\"dataframe\">\n",
       "  <thead>\n",
       "    <tr>\n",
       "      <th></th>\n",
       "      <th colspan=\"2\" halign=\"left\">num_palabras</th>\n",
       "      <th colspan=\"2\" halign=\"left\">num_chars</th>\n",
       "    </tr>\n",
       "    <tr>\n",
       "      <th></th>\n",
       "      <th>mean</th>\n",
       "      <th>std</th>\n",
       "      <th>mean</th>\n",
       "      <th>std</th>\n",
       "    </tr>\n",
       "    <tr>\n",
       "      <th>usuario</th>\n",
       "      <th></th>\n",
       "      <th></th>\n",
       "      <th></th>\n",
       "      <th></th>\n",
       "    </tr>\n",
       "  </thead>\n",
       "  <tbody>\n",
       "    <tr>\n",
       "      <th>&lt;Sistema&gt;</th>\n",
       "      <td>4.478261</td>\n",
       "      <td>4.934752</td>\n",
       "      <td>28.782609</td>\n",
       "      <td>31.325210</td>\n",
       "    </tr>\n",
       "    <tr>\n",
       "      <th>Aquaman</th>\n",
       "      <td>5.302285</td>\n",
       "      <td>9.263466</td>\n",
       "      <td>30.289104</td>\n",
       "      <td>50.407206</td>\n",
       "    </tr>\n",
       "    <tr>\n",
       "      <th>Batman</th>\n",
       "      <td>3.567376</td>\n",
       "      <td>4.156879</td>\n",
       "      <td>20.592199</td>\n",
       "      <td>34.410081</td>\n",
       "    </tr>\n",
       "    <tr>\n",
       "      <th>Flash</th>\n",
       "      <td>3.288598</td>\n",
       "      <td>2.462861</td>\n",
       "      <td>19.339880</td>\n",
       "      <td>17.029214</td>\n",
       "    </tr>\n",
       "    <tr>\n",
       "      <th>Linterna Verde</th>\n",
       "      <td>4.167963</td>\n",
       "      <td>2.896895</td>\n",
       "      <td>22.493779</td>\n",
       "      <td>14.991708</td>\n",
       "    </tr>\n",
       "    <tr>\n",
       "      <th>Superman</th>\n",
       "      <td>4.636415</td>\n",
       "      <td>4.299927</td>\n",
       "      <td>28.610644</td>\n",
       "      <td>26.557540</td>\n",
       "    </tr>\n",
       "    <tr>\n",
       "      <th>Wonder Woman</th>\n",
       "      <td>4.146860</td>\n",
       "      <td>5.540527</td>\n",
       "      <td>23.091546</td>\n",
       "      <td>32.129481</td>\n",
       "    </tr>\n",
       "  </tbody>\n",
       "</table>\n",
       "</div>"
      ],
      "text/plain": [
       "               num_palabras            num_chars           \n",
       "                       mean       std       mean        std\n",
       "usuario                                                    \n",
       "<Sistema>          4.478261  4.934752  28.782609  31.325210\n",
       "Aquaman            5.302285  9.263466  30.289104  50.407206\n",
       "Batman             3.567376  4.156879  20.592199  34.410081\n",
       "Flash              3.288598  2.462861  19.339880  17.029214\n",
       "Linterna Verde     4.167963  2.896895  22.493779  14.991708\n",
       "Superman           4.636415  4.299927  28.610644  26.557540\n",
       "Wonder Woman       4.146860  5.540527  23.091546  32.129481"
      ]
     },
     "execution_count": 167,
     "metadata": {},
     "output_type": "execute_result"
    }
   ],
   "source": [
    "df.groupby('usuario')[['num_palabras', 'num_chars']].agg(['mean', 'std'])"
   ]
  },
  {
   "cell_type": "markdown",
   "id": "1613602f",
   "metadata": {},
   "source": [
    "Vemos un comportamiento interesante: \n",
    "\n",
    "El promedio de palabras por mensaje nos dice que tantas palabras necesita un usuario para expresarse. Entre más alto el promedio, más verboso es el miembro. Vemos que el integrante con el promedio más alto de palabras por mensaje es Aquaman, seguido por Superman y Wonder Woman. Por otro lado, Batman y Flash son los integrantes con menor cantidad de palabras por mensaje. \n",
    "\n",
    "La desviación estándar nos dice cuánta variación hay en el tamaño de los mensajes. Los valore altos indican que el usuario a veces manda mensajes muy cortos y a veces muy largos. Podemos agrupar a los usuarios según la variabilidad de longitud de sus mensajes: \n",
    "\n",
    "* Usuarios con más variabilidad en el tamaño de mensajes:\n",
    "\n",
    "    * **Aquaman**: Muy alta variabilidad (9.25 palabras, 50.29 caracteres). Esto sugiere que a veces manda textos largos, otras veces muy cortos.\n",
    "\n",
    "    * **Wonder Woman**: También tiene variabilidad alta, especialmente en caracteres (32.05).\n",
    "\n",
    "* Usuarios  con menos variabilidad:\n",
    "\n",
    "    * **Flash** y **Linterna Verde**: Tienen los valores más bajos de desviación estándar, lo que sugiere un estilo de mensaje más constante y predecible.\n",
    "\n",
    "    * Flash: 2.46 palabras, 16.99 caracteres.\n",
    "    * Linterna Verde: 2.89 palabras, 15.00 caracteres.\n",
    "\n",
    "Batman es el usuario menos participativo, los mensajes son breves y de longitud predecible."
   ]
  },
  {
   "cell_type": "markdown",
   "id": "8a857e28",
   "metadata": {},
   "source": [
    "### 4.6 ¿Como cambia la actividad a lo largo del tiempo?\n",
    "\n",
    "Para analizar la actividad temporal del grupo, agrupamos por mes y verificamos si la epoca del año afecta la actividad. En particular nos centraremos en responder: ¿las vacaciones influyen en la actividad del grupo?\n",
    "\n",
    "Creamos la columna `year_month`: "
   ]
  },
  {
   "cell_type": "code",
   "execution_count": 172,
   "id": "5665e48a",
   "metadata": {},
   "outputs": [],
   "source": [
    "df['year_month_str'] = df['datetime'].dt.strftime('%Y-%m')"
   ]
  },
  {
   "cell_type": "code",
   "execution_count": 173,
   "id": "9d6276c3",
   "metadata": {},
   "outputs": [],
   "source": [
    "df['year_month_str'];  # OK"
   ]
  },
  {
   "cell_type": "markdown",
   "id": "f7e8e4c3",
   "metadata": {},
   "source": [
    "El total de mensajes por mes: "
   ]
  },
  {
   "cell_type": "code",
   "execution_count": 174,
   "id": "769d042e",
   "metadata": {},
   "outputs": [
    {
     "data": {
      "text/html": [
       "<div>\n",
       "<style scoped>\n",
       "    .dataframe tbody tr th:only-of-type {\n",
       "        vertical-align: middle;\n",
       "    }\n",
       "\n",
       "    .dataframe tbody tr th {\n",
       "        vertical-align: top;\n",
       "    }\n",
       "\n",
       "    .dataframe thead th {\n",
       "        text-align: right;\n",
       "    }\n",
       "</style>\n",
       "<table border=\"1\" class=\"dataframe\">\n",
       "  <thead>\n",
       "    <tr style=\"text-align: right;\">\n",
       "      <th></th>\n",
       "      <th>year_month_str</th>\n",
       "      <th>num_mensajes</th>\n",
       "    </tr>\n",
       "  </thead>\n",
       "  <tbody>\n",
       "    <tr>\n",
       "      <th>0</th>\n",
       "      <td>2023-04</td>\n",
       "      <td>333</td>\n",
       "    </tr>\n",
       "    <tr>\n",
       "      <th>1</th>\n",
       "      <td>2023-05</td>\n",
       "      <td>1226</td>\n",
       "    </tr>\n",
       "    <tr>\n",
       "      <th>2</th>\n",
       "      <td>2023-06</td>\n",
       "      <td>1117</td>\n",
       "    </tr>\n",
       "    <tr>\n",
       "      <th>3</th>\n",
       "      <td>2023-07</td>\n",
       "      <td>528</td>\n",
       "    </tr>\n",
       "    <tr>\n",
       "      <th>4</th>\n",
       "      <td>2023-08</td>\n",
       "      <td>460</td>\n",
       "    </tr>\n",
       "  </tbody>\n",
       "</table>\n",
       "</div>"
      ],
      "text/plain": [
       "  year_month_str  num_mensajes\n",
       "0        2023-04           333\n",
       "1        2023-05          1226\n",
       "2        2023-06          1117\n",
       "3        2023-07           528\n",
       "4        2023-08           460"
      ]
     },
     "execution_count": 174,
     "metadata": {},
     "output_type": "execute_result"
    }
   ],
   "source": [
    "mensajes_por_mes = df.groupby('year_month_str').size().reset_index(name='num_mensajes')\n",
    "mensajes_por_mes.head()  # OK"
   ]
  },
  {
   "cell_type": "markdown",
   "id": "e2eca5ed",
   "metadata": {},
   "source": [
    "Ahora, graficamos los datos obtenidos: "
   ]
  },
  {
   "cell_type": "code",
   "execution_count": 175,
   "id": "64a1078a",
   "metadata": {},
   "outputs": [
    {
     "data": {
      "image/png": "[encoded data removed]",
      "text/plain": [
       "<Figure size 1400x600 with 1 Axes>"
      ]
     },
     "metadata": {},
     "output_type": "display_data"
    }
   ],
   "source": [
    "plt.figure(figsize=(14,6))\n",
    "sns.lineplot(\n",
    "    data=mensajes_por_mes,\n",
    "    x='year_month_str',\n",
    "    y='num_mensajes',\n",
    "    marker='o',\n",
    ")\n",
    "plt.title('Actividad del grupo por mes', fontsize=16)\n",
    "plt.xlabel('Mes')\n",
    "plt.ylabel('Cantidad de mensajes')\n",
    "plt.xticks(rotation=45)\n",
    "plt.show()\n"
   ]
  },
  {
   "cell_type": "markdown",
   "id": "6449043f",
   "metadata": {},
   "source": [
    "\n",
    "Del análisis del *wordcloud* se sugiere que el grupo pertenece a un conjunto de personas con **actividades escolares en común**, ya que aparecen palabras relacionadas con la vida académica como *inscripción*, *grupo*, *tarea*, *examen*, así como palabras como *huelga* y *decisión*. \n",
    "\n",
    "El **comportamiento temporal del grupo** es irregular: la cantidad de mensajes no se mantiene constante a lo largo del tiempo, mostrando picos y valles según la época del año y los eventos relevantes.\n",
    "\n",
    "Considerando el **periodo 2023**, los mensajes alcanzaron su **pico en abril** y se mantuvieron relativamente constantes hasta junio. Esta actividad coincide con el **cierre de semestre**, lo que probablemente influyó en la intensidad de la comunicación. Posteriormente, la cantidad de mensajes disminuyó gradualmente, llegando a casi **cero mensajes por mes en diciembre**, lo que puede relacionarse con las vacaciones.\n",
    "\n",
    "En el **periodo 2024**, la actividad comenzó de manera intensa, coincidiendo con las **inscripciones escolares a los grupos**, que generaron un aumento en la interacción del grupo. En marzo se observó un **bajón en la actividad**, seguido de un repunte hasta mayo. Durante este año, la actividad académica se ve afectada por **huelgas y la incertidumbre sobre el regreso a clases**, lo que podría explicar la variabilidad de los mensajes.\n",
    "\n",
    "En general, durante las **vacaciones no se registró una gran actividad**, mientras que los momentos de mayor interacción corresponden a **eventos relevantes del ámbito académico**, como inscripciones, toma de decisiones y conflictos universitarios. Esto indica que el grupo utiliza el grupo para coordinarse y mantenerse informado sobre actividades escolares y asuntos academicos."
   ]
  },
  {
   "cell_type": "markdown",
   "id": "5d710ca6",
   "metadata": {},
   "source": [
    "## 5 Conclusiones\n",
    "\n",
    "Del análsis anterior, podemos sacar las siguientes conclusiones:\n",
    "\n",
    "* El grupo muestra un **comportamiento muy desigual**: Wonder Woman domina la conversación con una alta participación, mientras que Batman es claramente el más reservado. \n",
    " \n",
    "* La actividad general sigue patrones relacionados con el calendario académico y eventos importantes, con picos de mensajes durante la mañana y los viernes.\n",
    "\n",
    "* Los mensajes son en promedio breves, aunque algunos miembros como Aquaman y Wonder Woman presentan alta variabilidad en la longitud de sus mensajes, lo que indica que combinan textos cortos y largos.\n",
    "Las palabras más frecuentes reflejan tanto la vida escolar (*tarea, examen, inscripción, huelga*) como interacciones informales (*wey, jaja, xd, tiktok, instagram*), confirmando que el grupo combina coordinación académica con socialización y diversión.\n",
    "\n",
    "En conjunto, estos datos muestran un grupo activo y variado, con miembros muy participativos y otros más silenciosos, donde la comunicación se concentra en momentos clave del semestre escolar."
   ]
  }
 ],
 "metadata": {
  "kernelspec": {
   "display_name": "whatsapp",
   "language": "python",
   "name": "python3"
  },
  "language_info": {
   "codemirror_mode": {
    "name": "ipython",
    "version": 3
   },
   "file_extension": ".py",
   "mimetype": "text/x-python",
   "name": "python",
   "nbconvert_exporter": "python",
   "pygments_lexer": "ipython3",
   "version": "3.13.7"
  }
 },
 "nbformat": 4,
 "nbformat_minor": 5
}
