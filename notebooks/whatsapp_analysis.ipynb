{
 "cells": [
  {
   "cell_type": "markdown",
   "id": "2f47672b",
   "metadata": {},
   "source": [
    "# **Analizando un grupo de WhatsApp**\n",
    "\n",
    "## 1 Introducción"
   ]
  },
  {
   "cell_type": "markdown",
   "id": "c1b8e7a5",
   "metadata": {},
   "source": [
    "### 1.1 Configuraciones de entorno"
   ]
  },
  {
   "cell_type": "code",
   "execution_count": 1,
   "id": "2bfe522d",
   "metadata": {},
   "outputs": [],
   "source": [
    "import pandas as pd\n",
    "import matplotlib.pyplot as plt\n",
    "import seaborn as sns\n",
    "from wordcloud import WordCloud\n",
    "import spacy\n",
    "\n",
    "import re\n",
    "import zipfile\n",
    "from pathlib import Path"
   ]
  },
  {
   "cell_type": "code",
   "execution_count": 2,
   "id": "cccb3ef9",
   "metadata": {},
   "outputs": [],
   "source": [
    "plt.style.use('ggplot')"
   ]
  },
  {
   "cell_type": "markdown",
   "id": "6d178ce5",
   "metadata": {},
   "source": [
    "Los directorios de datos: "
   ]
  },
  {
   "cell_type": "code",
   "execution_count": 3,
   "id": "c0c43e48",
   "metadata": {},
   "outputs": [],
   "source": [
    "BASE = Path().resolve().parent\n",
    "DATA = BASE / \"data\"\n",
    "RAW = DATA / \"raw\"\n",
    "PROCESSED = DATA / \"processed\""
   ]
  },
  {
   "cell_type": "code",
   "execution_count": 4,
   "id": "72c3bc38",
   "metadata": {},
   "outputs": [
    {
     "data": {
      "text/plain": [
       "(True, True)"
      ]
     },
     "execution_count": 4,
     "metadata": {},
     "output_type": "execute_result"
    }
   ],
   "source": [
    "BASE.exists(), BASE.is_dir()"
   ]
  },
  {
   "cell_type": "markdown",
   "id": "2b9ee647",
   "metadata": {},
   "source": [
    "Aseguramos que los directorios están presentes en el proyecto: "
   ]
  },
  {
   "cell_type": "code",
   "execution_count": 5,
   "id": "dd03dbf0",
   "metadata": {},
   "outputs": [],
   "source": [
    "RAW.mkdir(exist_ok=True, parents=True)\n",
    "PROCESSED.mkdir(exist_ok=True, parents=True)"
   ]
  },
  {
   "cell_type": "markdown",
   "id": "30b1e315",
   "metadata": {},
   "source": [
    "## 2 Ingesta de Datos\n",
    "\n",
    "Los datos han sido descargados directamente desde un gurpo de WhatsApp y colocados en `data/raw` con el nombre de `grupo.zip`. \n",
    "\n",
    "Verifiquemos que los datos están presentes: "
   ]
  },
  {
   "cell_type": "code",
   "execution_count": 6,
   "id": "c06c5223",
   "metadata": {},
   "outputs": [
    {
     "name": "stdout",
     "output_type": "stream",
     "text": [
      "data\\raw\\grupo.txt\n",
      "data\\raw\\grupo.zip\n"
     ]
    }
   ],
   "source": [
    "for item in RAW.iterdir(): \n",
    "    print(item.relative_to(BASE))"
   ]
  },
  {
   "cell_type": "markdown",
   "id": "7b3f5d59",
   "metadata": {},
   "source": [
    "Creamos el apuntador al archivo y verificamos que existe y que es un archivo válido: "
   ]
  },
  {
   "cell_type": "code",
   "execution_count": 7,
   "id": "03293b77",
   "metadata": {},
   "outputs": [
    {
     "data": {
      "text/plain": [
       "(True, True)"
      ]
     },
     "execution_count": 7,
     "metadata": {},
     "output_type": "execute_result"
    }
   ],
   "source": [
    "zfile = RAW / \"grupo.zip\"\n",
    "\n",
    "zfile.exists(), zfile.is_file()"
   ]
  },
  {
   "cell_type": "markdown",
   "id": "3bda7f0a",
   "metadata": {},
   "source": [
    "El archivo de salida: "
   ]
  },
  {
   "cell_type": "code",
   "execution_count": 8,
   "id": "aa28affa",
   "metadata": {},
   "outputs": [],
   "source": [
    "outpath = RAW / \"grupo.txt\""
   ]
  },
  {
   "cell_type": "markdown",
   "id": "1795dc59",
   "metadata": {},
   "source": [
    "Para extraer el archivo `.zip` usamos el paquete `zipfile`: "
   ]
  },
  {
   "cell_type": "code",
   "execution_count": 9,
   "id": "f54eeea5",
   "metadata": {},
   "outputs": [],
   "source": [
    "with zipfile.ZipFile(zfile, 'r') as file:\n",
    "    filename = file.namelist()[0]\n",
    "\n",
    "    with file.open(filename) as source: \n",
    "        with open(outpath, 'wb') as target:\n",
    "            target.write(source.read())"
   ]
  },
  {
   "cell_type": "markdown",
   "id": "c0a3df19",
   "metadata": {},
   "source": [
    "Verificamos que el archivo se ha extraido correctamente: "
   ]
  },
  {
   "cell_type": "code",
   "execution_count": 10,
   "id": "f84d1afa",
   "metadata": {},
   "outputs": [
    {
     "data": {
      "text/plain": [
       "(True, True)"
      ]
     },
     "execution_count": 10,
     "metadata": {},
     "output_type": "execute_result"
    }
   ],
   "source": [
    "outpath.exists(), outpath.is_file()"
   ]
  },
  {
   "cell_type": "markdown",
   "id": "257470cd",
   "metadata": {},
   "source": [
    "Una vez extraido podemos cambiar los nombres de los participantes. En total hay 6 participantes en el gurpo y se han usado nombres de los superheroes de la liga de la justicia: Batman, Aquaman, Superman, Wonder Woman y Hulk. \n",
    "\n",
    "Ahora, cargamos el archivo de texto y demos un vistazo a los datos: "
   ]
  },
  {
   "cell_type": "code",
   "execution_count": 56,
   "id": "84987f2d",
   "metadata": {},
   "outputs": [
    {
     "name": "stdout",
     "output_type": "stream",
     "text": [
      "10/4/2023, 11:39 - Los mensajes y las llamadas están cifrados de extremo a extremo. Solo las personas en este chat pueden leerlos, escucharlos o compartirlos. Obtén más información.\n",
      "10/4/2023, 11:39 - ‎Wonder Woman creó el grupo \"grupo\".\n",
      "10/4/2023, 11:39 - ‎Wonder Woman te añadió\n",
      "10/4/2023, 11:40 - Flash: ✋✋✋\n",
      "10/4/2023, 11:41 - Flash: Rola las fotos Wonder Woman\n",
      "10/4/2023, 11:41 - Flash: Un parienton\n",
      "10/4/2023, 11:43 - Wonder Woman: ayuda el Batman está hablando mayo\n",
      "10/4/2023, 11:45 - Batman: Hao✋\n",
      "10/4/2023, 11:55 - Flash: <Multimedia omitido>\n",
      "10/4/2023, 11:55 - Flash: <Multimedia omitido>\n",
      "10/4/2023, 11:55 - Flash: <Multimedia omitido>\n"
     ]
    }
   ],
   "source": [
    "with open(outpath, \"r\", encoding=\"utf-8\") as f:\n",
    "    for i, line in enumerate(f):\n",
    "        print(line.strip())\n",
    "        if i == 10:  # las primeras 20 lineas\n",
    "            break"
   ]
  },
  {
   "cell_type": "markdown",
   "id": "a1702468",
   "metadata": {},
   "source": [
    "Obtenemos una lista con las lineas del texto: "
   ]
  },
  {
   "cell_type": "code",
   "execution_count": 57,
   "id": "4d822183",
   "metadata": {},
   "outputs": [],
   "source": [
    "with open(outpath, \"r\", encoding=\"utf-8\") as f:\n",
    "    lines = f.readlines()"
   ]
  },
  {
   "cell_type": "code",
   "execution_count": 58,
   "id": "53916e13",
   "metadata": {},
   "outputs": [
    {
     "data": {
      "text/plain": [
       "(11317,\n",
       " ['10/4/2023, 11:39 - Los mensajes y las llamadas están cifrados de extremo a extremo. Solo las personas en este chat pueden leerlos, escucharlos o compartirlos. Obtén más información.\\n',\n",
       "  '10/4/2023, 11:39 - \\u200eWonder Woman creó el grupo \"grupo\".\\n',\n",
       "  '10/4/2023, 11:39 - \\u200eWonder Woman te añadió\\n',\n",
       "  '10/4/2023, 11:40 - Flash: ✋✋✋\\n',\n",
       "  '10/4/2023, 11:41 - Flash: Rola las fotos Wonder Woman\\n'])"
      ]
     },
     "execution_count": 58,
     "metadata": {},
     "output_type": "execute_result"
    }
   ],
   "source": [
    "len(lines), lines[:5]"
   ]
  },
  {
   "cell_type": "markdown",
   "id": "a948a011",
   "metadata": {},
   "source": [
    "Ahora, separamos cada línea como una tupla con los campos `fecha`, `hora`, `usuario`, `mensaje`: "
   ]
  },
  {
   "cell_type": "code",
   "execution_count": 59,
   "id": "af6e9fff",
   "metadata": {},
   "outputs": [
    {
     "name": "stdout",
     "output_type": "stream",
     "text": [
      "\u001b[31mClass docstring:\u001b[39m\n",
      "    Return a copy of the string with leading and trailing whitespace removed.\n",
      "    \n",
      "    If chars is given and not None, remove characters in chars instead.\n",
      "\u001b[31mCall docstring:\u001b[39m\n",
      "    Call self as a function."
     ]
    }
   ],
   "source": [
    "%pdoc str.strip"
   ]
  },
  {
   "cell_type": "code",
   "execution_count": 60,
   "id": "014349e3",
   "metadata": {},
   "outputs": [],
   "source": [
    "import re\n",
    "\n",
    "def get_fields(lines):\n",
    "    # Regex para separar fecha, hora, usuario y mensaje\n",
    "    pattern = r'(\\d{1,2}/\\d{1,2}/\\d{4}), (\\d{1,2}:\\d{2}) - (.*?): (.*)'\n",
    "    tuples = [] \n",
    "    \n",
    "    for line in lines: \n",
    "        line = line.strip()\n",
    "        match = re.match(pattern, line)\n",
    "        \n",
    "        if match:\n",
    "            fecha = match.group(1)\n",
    "            hora = match.group(2)\n",
    "            nombre = match.group(3)\n",
    "            contenido = match.group(4)\n",
    "            tuples.append((fecha, hora, nombre, contenido))\n",
    "        else:\n",
    "            # Mensaje del sistema: tratamos como \"usuario = <Sistema>\"\n",
    "            sys_pattern = r'(\\d{1,2}/\\d{1,2}/\\d{4}), (\\d{1,2}:\\d{2}) - (.*)'\n",
    "            sys_match = re.match(sys_pattern, line)\n",
    "            \n",
    "            if sys_match:\n",
    "                fecha = sys_match.group(1)\n",
    "                hora = sys_match.group(2)\n",
    "                contenido = sys_match.group(3)\n",
    "                tuples.append((fecha, hora, \"<Sistema>\", contenido))\n",
    "            else:\n",
    "                # línea inicial sin contexto\n",
    "                tuples.append((None, None, \"<Desconocido>\", line))\n",
    "    \n",
    "    return tuples\n"
   ]
  },
  {
   "cell_type": "code",
   "execution_count": 61,
   "id": "454a53ff",
   "metadata": {},
   "outputs": [
    {
     "data": {
      "text/plain": [
       "(11317,\n",
       " [('10/4/2023',\n",
       "   '11:39',\n",
       "   '<Sistema>',\n",
       "   'Los mensajes y las llamadas están cifrados de extremo a extremo. Solo las personas en este chat pueden leerlos, escucharlos o compartirlos. Obtén más información.'),\n",
       "  ('10/4/2023',\n",
       "   '11:39',\n",
       "   '<Sistema>',\n",
       "   '\\u200eWonder Woman creó el grupo \"grupo\".'),\n",
       "  ('10/4/2023', '11:39', '<Sistema>', '\\u200eWonder Woman te añadió'),\n",
       "  ('10/4/2023', '11:40', 'Flash', '✋✋✋'),\n",
       "  ('10/4/2023', '11:41', 'Flash', 'Rola las fotos Wonder Woman')])"
      ]
     },
     "execution_count": 61,
     "metadata": {},
     "output_type": "execute_result"
    }
   ],
   "source": [
    "tuple_msgs = get_fields(lines)\n",
    "\n",
    "len(tuple_msgs), tuple_msgs[:5]"
   ]
  },
  {
   "cell_type": "markdown",
   "id": "28e6167f",
   "metadata": {},
   "source": [
    "Ahora, pasamos los datos de texto a `DataFrame`: "
   ]
  },
  {
   "cell_type": "code",
   "execution_count": 62,
   "id": "522f163b",
   "metadata": {},
   "outputs": [],
   "source": [
    "df = pd.DataFrame(tuple_msgs, columns=['fecha', 'hora', 'usuario', 'mensaje'])"
   ]
  },
  {
   "cell_type": "markdown",
   "id": "9cef755d",
   "metadata": {},
   "source": [
    "## 3 Limpieza y Procesamiento\n",
    "\n",
    "Una pequeña exploración a los mensajes en forma de `DataFrame`: "
   ]
  },
  {
   "cell_type": "code",
   "execution_count": 63,
   "id": "f4ea9abf",
   "metadata": {},
   "outputs": [
    {
     "data": {
      "text/html": [
       "<div>\n",
       "<style scoped>\n",
       "    .dataframe tbody tr th:only-of-type {\n",
       "        vertical-align: middle;\n",
       "    }\n",
       "\n",
       "    .dataframe tbody tr th {\n",
       "        vertical-align: top;\n",
       "    }\n",
       "\n",
       "    .dataframe thead th {\n",
       "        text-align: right;\n",
       "    }\n",
       "</style>\n",
       "<table border=\"1\" class=\"dataframe\">\n",
       "  <thead>\n",
       "    <tr style=\"text-align: right;\">\n",
       "      <th></th>\n",
       "      <th>fecha</th>\n",
       "      <th>hora</th>\n",
       "      <th>usuario</th>\n",
       "      <th>mensaje</th>\n",
       "    </tr>\n",
       "  </thead>\n",
       "  <tbody>\n",
       "    <tr>\n",
       "      <th>0</th>\n",
       "      <td>10/4/2023</td>\n",
       "      <td>11:39</td>\n",
       "      <td>&lt;Sistema&gt;</td>\n",
       "      <td>Los mensajes y las llamadas están cifrados de ...</td>\n",
       "    </tr>\n",
       "    <tr>\n",
       "      <th>1</th>\n",
       "      <td>10/4/2023</td>\n",
       "      <td>11:39</td>\n",
       "      <td>&lt;Sistema&gt;</td>\n",
       "      <td>‎Wonder Woman creó el grupo \"grupo\".</td>\n",
       "    </tr>\n",
       "    <tr>\n",
       "      <th>2</th>\n",
       "      <td>10/4/2023</td>\n",
       "      <td>11:39</td>\n",
       "      <td>&lt;Sistema&gt;</td>\n",
       "      <td>‎Wonder Woman te añadió</td>\n",
       "    </tr>\n",
       "    <tr>\n",
       "      <th>3</th>\n",
       "      <td>10/4/2023</td>\n",
       "      <td>11:40</td>\n",
       "      <td>Flash</td>\n",
       "      <td>✋✋✋</td>\n",
       "    </tr>\n",
       "    <tr>\n",
       "      <th>4</th>\n",
       "      <td>10/4/2023</td>\n",
       "      <td>11:41</td>\n",
       "      <td>Flash</td>\n",
       "      <td>Rola las fotos Wonder Woman</td>\n",
       "    </tr>\n",
       "  </tbody>\n",
       "</table>\n",
       "</div>"
      ],
      "text/plain": [
       "       fecha   hora    usuario  \\\n",
       "0  10/4/2023  11:39  <Sistema>   \n",
       "1  10/4/2023  11:39  <Sistema>   \n",
       "2  10/4/2023  11:39  <Sistema>   \n",
       "3  10/4/2023  11:40      Flash   \n",
       "4  10/4/2023  11:41      Flash   \n",
       "\n",
       "                                             mensaje  \n",
       "0  Los mensajes y las llamadas están cifrados de ...  \n",
       "1               ‎Wonder Woman creó el grupo \"grupo\".  \n",
       "2                            ‎Wonder Woman te añadió  \n",
       "3                                                ✋✋✋  \n",
       "4                        Rola las fotos Wonder Woman  "
      ]
     },
     "execution_count": 63,
     "metadata": {},
     "output_type": "execute_result"
    }
   ],
   "source": [
    "df.head()"
   ]
  },
  {
   "cell_type": "code",
   "execution_count": 64,
   "id": "93e1cd17",
   "metadata": {},
   "outputs": [
    {
     "data": {
      "text/plain": [
       "fecha      object\n",
       "hora       object\n",
       "usuario    object\n",
       "mensaje    object\n",
       "dtype: object"
      ]
     },
     "execution_count": 64,
     "metadata": {},
     "output_type": "execute_result"
    }
   ],
   "source": [
    "df.dtypes"
   ]
  },
  {
   "cell_type": "markdown",
   "id": "0295d49e",
   "metadata": {},
   "source": [
    "Es necesario unir la fecha y hora una sola columna `datetime`:"
   ]
  },
  {
   "cell_type": "code",
   "execution_count": 65,
   "id": "cae9ad60",
   "metadata": {},
   "outputs": [
    {
     "data": {
      "text/plain": [
       "0   2023-04-10 11:39:00\n",
       "1   2023-04-10 11:39:00\n",
       "2   2023-04-10 11:39:00\n",
       "3   2023-04-10 11:40:00\n",
       "4   2023-04-10 11:41:00\n",
       "Name: datetime, dtype: datetime64[ns]"
      ]
     },
     "execution_count": 65,
     "metadata": {},
     "output_type": "execute_result"
    }
   ],
   "source": [
    "df['datetime'] = pd.to_datetime(df['fecha'] + ' ' + df['hora'], format=\"%d/%m/%Y %H:%M\")\n",
    "df['datetime'].head()"
   ]
  },
  {
   "cell_type": "markdown",
   "id": "22ee9335",
   "metadata": {},
   "source": [
    "Eliminamos las columnas `fecha` y `hora`: "
   ]
  },
  {
   "cell_type": "code",
   "execution_count": 66,
   "id": "1ea6fb7d",
   "metadata": {},
   "outputs": [],
   "source": [
    "df.drop(columns=['fecha', 'hora'], inplace=True)"
   ]
  },
  {
   "cell_type": "markdown",
   "id": "69a3c353",
   "metadata": {},
   "source": [
    "Ahora, analicemos la columna `mensaje` para determinar el tipo de mensaje: "
   ]
  },
  {
   "cell_type": "code",
   "execution_count": 67,
   "id": "fdc6c5bd",
   "metadata": {},
   "outputs": [
    {
     "data": {
      "text/plain": [
       "0    Los mensajes y las llamadas están cifrados de ...\n",
       "1                 ‎Wonder Woman creó el grupo \"grupo\".\n",
       "2                              ‎Wonder Woman te añadió\n",
       "3                                                  ✋✋✋\n",
       "4                          Rola las fotos Wonder Woman\n",
       "Name: mensaje, dtype: object"
      ]
     },
     "execution_count": 67,
     "metadata": {},
     "output_type": "execute_result"
    }
   ],
   "source": [
    "df['mensaje'].head()"
   ]
  },
  {
   "cell_type": "markdown",
   "id": "e426b16c",
   "metadata": {},
   "source": [
    "Conviene normalizar las cadenas de mensaje: "
   ]
  },
  {
   "cell_type": "code",
   "execution_count": 68,
   "id": "c15f60ee",
   "metadata": {},
   "outputs": [],
   "source": [
    "df['mensaje'] = df['mensaje'].str.lower()"
   ]
  },
  {
   "cell_type": "code",
   "execution_count": 69,
   "id": "38991092",
   "metadata": {},
   "outputs": [
    {
     "data": {
      "text/plain": [
       "array(['<multimedia omitido>'], dtype=object)"
      ]
     },
     "execution_count": 69,
     "metadata": {},
     "output_type": "execute_result"
    }
   ],
   "source": [
    "multimedias = df[df['mensaje'].str.contains('multimedia')]\n",
    "multimedias['mensaje'].unique()"
   ]
  },
  {
   "cell_type": "markdown",
   "id": "17400f34",
   "metadata": {},
   "source": [
    "Debido a que se han exportado los mensajes considerando únicamente los mensajes, no es posible saber si el mensaje multimedia es un audio, video, imagen, documento ó sticker. Por lo que las categirías serán unicamente `texto` y multimedia: "
   ]
  },
  {
   "cell_type": "code",
   "execution_count": 71,
   "id": "3e284251",
   "metadata": {},
   "outputs": [],
   "source": [
    "def classify_msg(line): \n",
    "    if 'multimedia' in line:\n",
    "        return 'multimedia'\n",
    "    else: \n",
    "        return 'texto'"
   ]
  },
  {
   "cell_type": "code",
   "execution_count": 72,
   "id": "f357bf36",
   "metadata": {},
   "outputs": [],
   "source": [
    "df['tipo'] = df['mensaje'].apply(classify_msg)"
   ]
  },
  {
   "cell_type": "code",
   "execution_count": 73,
   "id": "cd601268",
   "metadata": {},
   "outputs": [
    {
     "data": {
      "text/plain": [
       "array(['texto', 'multimedia'], dtype=object)"
      ]
     },
     "execution_count": 73,
     "metadata": {},
     "output_type": "execute_result"
    }
   ],
   "source": [
    "df['tipo'].unique()"
   ]
  },
  {
   "cell_type": "markdown",
   "id": "1cc61a58",
   "metadata": {},
   "source": [
    "Ahora, se crea la columna `num_palabras` que posee la cantidad de palabras en el mensaje: "
   ]
  },
  {
   "cell_type": "code",
   "execution_count": 75,
   "id": "f8d734a6",
   "metadata": {},
   "outputs": [
    {
     "data": {
      "text/plain": [
       "0    los mensajes y las llamadas están cifrados de ...\n",
       "1                 ‎wonder woman creó el grupo \"grupo\".\n",
       "2                              ‎wonder woman te añadió\n",
       "3                                                  ✋✋✋\n",
       "4                          rola las fotos wonder woman\n",
       "Name: mensaje, dtype: object"
      ]
     },
     "execution_count": 75,
     "metadata": {},
     "output_type": "execute_result"
    }
   ],
   "source": [
    "df['mensaje'].head()"
   ]
  },
  {
   "cell_type": "code",
   "execution_count": 84,
   "id": "1cc3d518",
   "metadata": {},
   "outputs": [],
   "source": [
    "df['num_palabras'] = df['mensaje'].str.split(' ').str.len()"
   ]
  },
  {
   "cell_type": "markdown",
   "id": "9f1a80ab",
   "metadata": {},
   "source": [
    "Por último, la columna `num_chars` que almacena la cantidad de carácteres de cada mensaje: "
   ]
  },
  {
   "cell_type": "code",
   "execution_count": 82,
   "id": "bbb463a3",
   "metadata": {},
   "outputs": [],
   "source": [
    "df['num_chars'] = df['mensaje'].str.len()"
   ]
  },
  {
   "cell_type": "code",
   "execution_count": 83,
   "id": "37cb1dfe",
   "metadata": {},
   "outputs": [
    {
     "data": {
      "text/html": [
       "<div>\n",
       "<style scoped>\n",
       "    .dataframe tbody tr th:only-of-type {\n",
       "        vertical-align: middle;\n",
       "    }\n",
       "\n",
       "    .dataframe tbody tr th {\n",
       "        vertical-align: top;\n",
       "    }\n",
       "\n",
       "    .dataframe thead th {\n",
       "        text-align: right;\n",
       "    }\n",
       "</style>\n",
       "<table border=\"1\" class=\"dataframe\">\n",
       "  <thead>\n",
       "    <tr style=\"text-align: right;\">\n",
       "      <th></th>\n",
       "      <th>usuario</th>\n",
       "      <th>mensaje</th>\n",
       "      <th>datetime</th>\n",
       "      <th>tipo</th>\n",
       "      <th>num_palabras</th>\n",
       "      <th>num_chars</th>\n",
       "    </tr>\n",
       "  </thead>\n",
       "  <tbody>\n",
       "    <tr>\n",
       "      <th>0</th>\n",
       "      <td>&lt;Sistema&gt;</td>\n",
       "      <td>los mensajes y las llamadas están cifrados de ...</td>\n",
       "      <td>2023-04-10 11:39:00</td>\n",
       "      <td>texto</td>\n",
       "      <td>25</td>\n",
       "      <td>162</td>\n",
       "    </tr>\n",
       "    <tr>\n",
       "      <th>1</th>\n",
       "      <td>&lt;Sistema&gt;</td>\n",
       "      <td>‎wonder woman creó el grupo \"grupo\".</td>\n",
       "      <td>2023-04-10 11:39:00</td>\n",
       "      <td>texto</td>\n",
       "      <td>6</td>\n",
       "      <td>36</td>\n",
       "    </tr>\n",
       "    <tr>\n",
       "      <th>2</th>\n",
       "      <td>&lt;Sistema&gt;</td>\n",
       "      <td>‎wonder woman te añadió</td>\n",
       "      <td>2023-04-10 11:39:00</td>\n",
       "      <td>texto</td>\n",
       "      <td>4</td>\n",
       "      <td>23</td>\n",
       "    </tr>\n",
       "    <tr>\n",
       "      <th>3</th>\n",
       "      <td>Flash</td>\n",
       "      <td>✋✋✋</td>\n",
       "      <td>2023-04-10 11:40:00</td>\n",
       "      <td>texto</td>\n",
       "      <td>1</td>\n",
       "      <td>3</td>\n",
       "    </tr>\n",
       "    <tr>\n",
       "      <th>4</th>\n",
       "      <td>Flash</td>\n",
       "      <td>rola las fotos wonder woman</td>\n",
       "      <td>2023-04-10 11:41:00</td>\n",
       "      <td>texto</td>\n",
       "      <td>5</td>\n",
       "      <td>27</td>\n",
       "    </tr>\n",
       "  </tbody>\n",
       "</table>\n",
       "</div>"
      ],
      "text/plain": [
       "     usuario                                            mensaje  \\\n",
       "0  <Sistema>  los mensajes y las llamadas están cifrados de ...   \n",
       "1  <Sistema>               ‎wonder woman creó el grupo \"grupo\".   \n",
       "2  <Sistema>                            ‎wonder woman te añadió   \n",
       "3      Flash                                                ✋✋✋   \n",
       "4      Flash                        rola las fotos wonder woman   \n",
       "\n",
       "             datetime   tipo  num_palabras  num_chars  \n",
       "0 2023-04-10 11:39:00  texto            25        162  \n",
       "1 2023-04-10 11:39:00  texto             6         36  \n",
       "2 2023-04-10 11:39:00  texto             4         23  \n",
       "3 2023-04-10 11:40:00  texto             1          3  \n",
       "4 2023-04-10 11:41:00  texto             5         27  "
      ]
     },
     "execution_count": 83,
     "metadata": {},
     "output_type": "execute_result"
    }
   ],
   "source": [
    "df.head()"
   ]
  },
  {
   "cell_type": "code",
   "execution_count": 80,
   "id": "68e8a801",
   "metadata": {},
   "outputs": [
    {
     "data": {
      "text/plain": [
       "usuario                 object\n",
       "mensaje                 object\n",
       "datetime        datetime64[ns]\n",
       "tipo                    object\n",
       "num_palabras             int64\n",
       "dtype: object"
      ]
     },
     "execution_count": 80,
     "metadata": {},
     "output_type": "execute_result"
    }
   ],
   "source": [
    "df.dtypes"
   ]
  },
  {
   "cell_type": "markdown",
   "id": "996a0289",
   "metadata": {},
   "source": [
    "¡La limpieza parece estar completa!\n",
    "\n",
    "Reorganicemos las columnas del `DataFrame`: "
   ]
  },
  {
   "cell_type": "code",
   "execution_count": 85,
   "id": "dde860d6",
   "metadata": {},
   "outputs": [
    {
     "data": {
      "text/html": [
       "<div>\n",
       "<style scoped>\n",
       "    .dataframe tbody tr th:only-of-type {\n",
       "        vertical-align: middle;\n",
       "    }\n",
       "\n",
       "    .dataframe tbody tr th {\n",
       "        vertical-align: top;\n",
       "    }\n",
       "\n",
       "    .dataframe thead th {\n",
       "        text-align: right;\n",
       "    }\n",
       "</style>\n",
       "<table border=\"1\" class=\"dataframe\">\n",
       "  <thead>\n",
       "    <tr style=\"text-align: right;\">\n",
       "      <th></th>\n",
       "      <th>datetime</th>\n",
       "      <th>usuario</th>\n",
       "      <th>mensaje</th>\n",
       "      <th>tipo</th>\n",
       "      <th>num_palabras</th>\n",
       "      <th>num_chars</th>\n",
       "    </tr>\n",
       "  </thead>\n",
       "  <tbody>\n",
       "    <tr>\n",
       "      <th>0</th>\n",
       "      <td>2023-04-10 11:39:00</td>\n",
       "      <td>&lt;Sistema&gt;</td>\n",
       "      <td>los mensajes y las llamadas están cifrados de ...</td>\n",
       "      <td>texto</td>\n",
       "      <td>25</td>\n",
       "      <td>162</td>\n",
       "    </tr>\n",
       "    <tr>\n",
       "      <th>1</th>\n",
       "      <td>2023-04-10 11:39:00</td>\n",
       "      <td>&lt;Sistema&gt;</td>\n",
       "      <td>‎wonder woman creó el grupo \"grupo\".</td>\n",
       "      <td>texto</td>\n",
       "      <td>6</td>\n",
       "      <td>36</td>\n",
       "    </tr>\n",
       "    <tr>\n",
       "      <th>2</th>\n",
       "      <td>2023-04-10 11:39:00</td>\n",
       "      <td>&lt;Sistema&gt;</td>\n",
       "      <td>‎wonder woman te añadió</td>\n",
       "      <td>texto</td>\n",
       "      <td>4</td>\n",
       "      <td>23</td>\n",
       "    </tr>\n",
       "    <tr>\n",
       "      <th>3</th>\n",
       "      <td>2023-04-10 11:40:00</td>\n",
       "      <td>Flash</td>\n",
       "      <td>✋✋✋</td>\n",
       "      <td>texto</td>\n",
       "      <td>1</td>\n",
       "      <td>3</td>\n",
       "    </tr>\n",
       "    <tr>\n",
       "      <th>4</th>\n",
       "      <td>2023-04-10 11:41:00</td>\n",
       "      <td>Flash</td>\n",
       "      <td>rola las fotos wonder woman</td>\n",
       "      <td>texto</td>\n",
       "      <td>5</td>\n",
       "      <td>27</td>\n",
       "    </tr>\n",
       "  </tbody>\n",
       "</table>\n",
       "</div>"
      ],
      "text/plain": [
       "             datetime    usuario  \\\n",
       "0 2023-04-10 11:39:00  <Sistema>   \n",
       "1 2023-04-10 11:39:00  <Sistema>   \n",
       "2 2023-04-10 11:39:00  <Sistema>   \n",
       "3 2023-04-10 11:40:00      Flash   \n",
       "4 2023-04-10 11:41:00      Flash   \n",
       "\n",
       "                                             mensaje   tipo  num_palabras  \\\n",
       "0  los mensajes y las llamadas están cifrados de ...  texto            25   \n",
       "1               ‎wonder woman creó el grupo \"grupo\".  texto             6   \n",
       "2                            ‎wonder woman te añadió  texto             4   \n",
       "3                                                ✋✋✋  texto             1   \n",
       "4                        rola las fotos wonder woman  texto             5   \n",
       "\n",
       "   num_chars  \n",
       "0        162  \n",
       "1         36  \n",
       "2         23  \n",
       "3          3  \n",
       "4         27  "
      ]
     },
     "execution_count": 85,
     "metadata": {},
     "output_type": "execute_result"
    }
   ],
   "source": [
    "df = df[['datetime', 'usuario', 'mensaje', 'tipo', 'num_palabras', 'num_chars']]\n",
    "df.head()"
   ]
  },
  {
   "cell_type": "markdown",
   "id": "d7771fbe",
   "metadata": {},
   "source": [
    "## 4 Análisis Exploratorio de Datos"
   ]
  },
  {
   "cell_type": "code",
   "execution_count": null,
   "id": "22710dc7",
   "metadata": {},
   "outputs": [],
   "source": []
  },
  {
   "cell_type": "markdown",
   "id": "9688050d",
   "metadata": {},
   "source": [
    "### 4.1 Estadísticas Descriptivas"
   ]
  },
  {
   "cell_type": "code",
   "execution_count": null,
   "id": "4e48776b",
   "metadata": {},
   "outputs": [],
   "source": []
  },
  {
   "cell_type": "markdown",
   "id": "1bc82f78",
   "metadata": {},
   "source": [
    "### 4.2 Nube de palabras"
   ]
  },
  {
   "cell_type": "code",
   "execution_count": null,
   "id": "40da6ec2",
   "metadata": {},
   "outputs": [],
   "source": []
  },
  {
   "cell_type": "markdown",
   "id": "875dcb04",
   "metadata": {},
   "source": [
    "### 4.3 Usuarios más activos"
   ]
  },
  {
   "cell_type": "code",
   "execution_count": null,
   "metadata": {},
   "outputs": [],
   "source": []
  },
  {
   "cell_type": "markdown",
   "id": "c90014da",
   "metadata": {},
   "source": [
    "### 4.4 Ditribución temporal"
   ]
  },
  {
   "cell_type": "code",
   "execution_count": null,
   "id": "d53deb2f",
   "metadata": {},
   "outputs": [],
   "source": []
  },
  {
   "cell_type": "markdown",
   "id": "3660e4f7",
   "metadata": {},
   "source": [
    "### 4.5 Texto vs Multimedia"
   ]
  },
  {
   "cell_type": "code",
   "execution_count": null,
   "id": "dc5ec1ed",
   "metadata": {},
   "outputs": [],
   "source": []
  },
  {
   "cell_type": "markdown",
   "id": "3772195c",
   "metadata": {},
   "source": [
    "## 5 Otros Análsis"
   ]
  },
  {
   "cell_type": "code",
   "execution_count": null,
   "id": "c376fd2f",
   "metadata": {},
   "outputs": [],
   "source": []
  },
  {
   "cell_type": "markdown",
   "id": "5d710ca6",
   "metadata": {},
   "source": [
    "## 6 Conclusiones"
   ]
  },
  {
   "cell_type": "code",
   "execution_count": null,
   "id": "9929c7a1",
   "metadata": {},
   "outputs": [],
   "source": []
  }
 ],
 "metadata": {
  "kernelspec": {
   "display_name": "whatsapp",
   "language": "python",
   "name": "python3"
  },
  "language_info": {
   "codemirror_mode": {
    "name": "ipython",
    "version": 3
   },
   "file_extension": ".py",
   "mimetype": "text/x-python",
   "name": "python",
   "nbconvert_exporter": "python",
   "pygments_lexer": "ipython3",
   "version": "3.13.7"
  }
 },
 "nbformat": 4,
 "nbformat_minor": 5
}
